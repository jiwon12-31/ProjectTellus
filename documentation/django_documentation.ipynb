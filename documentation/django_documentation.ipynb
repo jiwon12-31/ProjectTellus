{
 "cells": [
  {
   "cell_type": "markdown",
   "metadata": {
    "collapsed": true,
    "pycharm": {
     "name": "#%% md\n"
    }
   },
   "source": [
    "# Project Tellus Documentation \n",
    "\n",
    "문서 구조\n",
    "1. AWS EC2 인스턴스 (Ubuntu ) 설정 \n",
    "2. Django 앱 구성\n"
   ]
  },
  {
   "cell_type": "markdown",
   "source": [
    "## AWS EC2 설치\n",
    "\n",
    "이번 프로젝트에는 Ubuntu 18.04를 사용했다. \n",
    "\n",
    "AWS 인스턴스 생성 후 터미널을 켜서 접속한다.\n",
    "\n",
    "1. 서버 환경 설정"
   ],
   "metadata": {
    "collapsed": false
   }
  },
  {
   "cell_type": "raw",
   "source": [
    "# locale 설정 \n",
    "sudo vi /etc/default/locale\n",
    "\n",
    "# i 를 누른 후 다음을 추가한다\n",
    "LC_CTYPE=\"en_US.UTF-8\"\n",
    "LC_ALL=\"en_US.UTF-8\"\n",
    "LANG=\"en_US.UTF-8\"\n",
    "\n",
    "# 나가는 법\n",
    "[esc] 누른 후 :wq 하고 [enter]"
   ],
   "metadata": {
    "collapsed": false
   }
  },
  {
   "cell_type": "markdown",
   "source": [
    "2. 패키지 업데이트"
   ],
   "metadata": {
    "collapsed": false
   }
  },
  {
   "cell_type": "raw",
   "source": [
    "sudo apt-get upgrade\n",
    "sudo apt-get dist-upgrade"
   ],
   "metadata": {
    "collapsed": false
   }
  },
  {
   "cell_type": "markdown",
   "source": [
    "3. zsh 와 oh my zsh 설정 (기본 쉘 변경)"
   ],
   "metadata": {
    "collapsed": false
   }
  },
  {
   "cell_type": "raw",
   "source": [
    "# zsh 설치\n",
    "sudo apt-get install zsh\n",
    "\n",
    "# ph my zsh 설치\n",
    "sudo curl -L http://install.ohmyz.sh | sh\n",
    "\n",
    "# 입력 후 재접속\n",
    "sudo chsh ubuntu -s /usr/bin/zsh"
   ],
   "metadata": {
    "collapsed": false
   }
  },
  {
   "cell_type": "markdown",
   "source": [
    "4. 파이썬 환경 설정"
   ],
   "metadata": {
    "collapsed": false
   }
  },
  {
   "cell_type": "raw",
   "source": [
    "sudo apt-get install python-dev python-setuptools\n",
    "\n",
    "# 파이썬 패키지 매니저 설치\n",
    "sudo apt update\n",
    "sudo apt install python3-pip\n",
    "\n",
    "# 가상환경 설치\n",
    "sudo apt-get install python3-venv"
   ],
   "metadata": {
    "collapsed": false
   }
  },
  {
   "cell_type": "markdown",
   "source": [
    "5. Django 프로젝트 폴더 설정"
   ],
   "metadata": {
    "collapsed": false
   }
  },
  {
   "cell_type": "raw",
   "source": [
    "# root 디렉토리의 srv 파일의 소유자를 ubuntu로 변경\n",
    "sudo chown -R ubuntu:ubuntu /srv/"
   ],
   "metadata": {
    "collapsed": false,
    "pycharm": {
     "name": "#%% raw\n"
    }
   }
  },
  {
   "cell_type": "markdown",
   "source": [
    "6. 로컬 컴퓨터에서 Ubuntu 서버로 파일 이동\n",
    "\n",
    "    - 파일을 옮기는 방법은 두가지 방법이 있다.\n",
    "        - git clone 깃허브_주소\n",
    "        - Secure Copy Protocol (scp) 방법"
   ],
   "metadata": {
    "collapsed": false,
    "pycharm": {
     "name": "#%% md\n"
    }
   }
  },
  {
   "cell_type": "raw",
   "source": [
    "# SCP 방법\n",
    "scp -i <인증서 위치> -r <로컬 서버에 있는 장고폴더> ubuntu@<인스턴스 Public DNS (IPv4)>:/srv/<폴더이름>"
   ],
   "metadata": {
    "collapsed": false,
    "pycharm": {
     "name": "#%% raw\n"
    }
   }
  },
  {
   "cell_type": "markdown",
   "source": [
    "7. 가상환경 설정\n"
   ],
   "metadata": {
    "collapsed": false,
    "pycharm": {
     "name": "#%% md\n"
    }
   }
  },
  {
   "cell_type": "raw",
   "source": [
    "# Ubuntu 서버에 있는 프로젝트 폴더로 이동\n",
    "cd /srv/project_folder_name\n",
    "\n",
    "# 가상환경 만들기\n",
    "python3 -m venv 가상환경이름\n",
    "\n",
    "# 가상환경 연결\n",
    "source 가상환경이름/bin/activate\n",
    "\n",
    "# 연결 끊기\n",
    "deactivate"
   ],
   "metadata": {
    "collapsed": false,
    "pycharm": {
     "name": "#%% raw\n"
    }
   }
  },
  {
   "cell_type": "markdown",
   "source": [
    "8. Django 등 필요한 패키지 설치"
   ],
   "metadata": {
    "collapsed": false,
    "pycharm": {
     "name": "#%% md\n"
    }
   }
  },
  {
   "cell_type": "raw",
   "source": [
    "pip3 install Django==2.2.6"
   ],
   "metadata": {
    "collapsed": false,
    "pycharm": {
     "name": "#%% raw\n"
    }
   }
  },
  {
   "cell_type": "markdown",
   "source": [
    "9. Django 실행"
   ],
   "metadata": {
    "collapsed": false,
    "pycharm": {
     "name": "#%% md\n"
    }
   }
  },
  {
   "cell_type": "raw",
   "source": [
    "python manage.py runserver 0:8080"
   ],
   "metadata": {
    "collapsed": false,
    "pycharm": {
     "name": "#%% raw\n"
    }
   }
  }
 ],
 "metadata": {
  "kernelspec": {
   "display_name": "Python 3",
   "language": "python",
   "name": "python3"
  },
  "language_info": {
   "codemirror_mode": {
    "name": "ipython",
    "version": 2
   },
   "file_extension": ".py",
   "mimetype": "text/x-python",
   "name": "python",
   "nbconvert_exporter": "python",
   "pygments_lexer": "ipython2",
   "version": "2.7.6"
  },
  "pycharm": {
   "stem_cell": {
    "cell_type": "raw",
    "source": [],
    "metadata": {
     "collapsed": false
    }
   }
  }
 },
 "nbformat": 4,
 "nbformat_minor": 0
}