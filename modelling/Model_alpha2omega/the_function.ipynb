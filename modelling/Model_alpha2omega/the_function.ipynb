{
 "cells": [
  {
   "cell_type": "code",
   "execution_count": 21,
   "metadata": {},
   "outputs": [],
   "source": [
    "import json\n",
    "import pickle\n",
    "import datetime"
   ]
  },
  {
   "cell_type": "code",
   "execution_count": 62,
   "metadata": {},
   "outputs": [],
   "source": [
    "# Assuming that the input from the Web is sent as a dict format\n",
    "# a function that preprocess the input\n",
    "def preprocess_nnlp(project):\n",
    "    # turn the input into adequate variables\n",
    "    project['launched_year'] = project.apply(lambda x: x['launched'].split(\" \")[0].split(\"-\")[0], axis = 1)\n",
    "    project['launched_month'] = project.apply(lambda x: x['launched'].split(\" \")[0].split(\"-\")[1], axis = 1)\n",
    "    project['launched_day'] = project.apply(lambda x: x['launched'].split(\" \")[0].split(\"-\")[2], axis = 1)\n",
    "    project['launched_date'] = project.apply(lambda x: x['launched'].split(\" \")[0].split(\"-\")[1] + x['launched'].split(\" \")[0].split(\"-\")[2], axis = 1)\n",
    "    project['deadline_dt'] = project.apply(lambda x: datetime.datetime.strptime(x['deadline'], \"%Y-%m-%d\").date(), axis = 1)\n",
    "    project['launched_dt'] = project.apply(lambda x: datetime.datetime.strptime(x['launched'].split(\" \")[0], \"%Y-%m-%d\").date(), axis = 1)\n",
    "    project['term'] = project.apply(lambda x: int(str(x['deadline_dt'] - x['launched_dt']).split(\" \")[0]), axis = 1)\n",
    "    project['term_str'] = project.apply(lambda x: str(x['term']), axis = 1)\n",
    "    \n",
    "    train_data = project[['main_category', 'currency', 'country', 'usd_goal_real', 'state_bin', 'launched_year', 'launched_month', 'term', 'blurb']]\n",
    "    \n",
    "    # Assigning a categorical type to categorical varibles and vectorizing the categories for simplification\n",
    "    with open('cat_labels.json') as json_file:\n",
    "        data = json.load(json_file)\n",
    "    \n",
    "    train['main_category'] = train_data['main_category'].map(data['main_category'])\n",
    "    train['currency'] = train_data['currency'].map(data['currency'])\n",
    "    train['country'] = train_data['country'].map(data['country'])\n",
    "    \n",
    "    # get the remaing variables\n",
    "    train[['usd_goal_real', 'launched_year', 'launched_month', 'term', 'state', 'blurb']] = train_data[['usd_goal_real', 'launched_year', 'launched_month', 'term', 'state_bin', 'blurb']]\n",
    "    \n",
    "    # turn categories into integer\n",
    "    train['category'] = train['category'].astype('int16')\n",
    "    train['main_category'] = train['main_category'].astype('int8')\n",
    "    train['currency'] = train['currency'].astype('int8')\n",
    "    train['country'] = train['country'].astype('int8')\n",
    "    \n",
    "    # turning into right variables\n",
    "    train['launched_year'] = (train['launched_year']).astype('int')\n",
    "    train['launched_month'] = (train['launched_month']).astype('int')\n",
    "    \n",
    "    return train"
   ]
  },
  {
   "cell_type": "code",
   "execution_count": 32,
   "metadata": {},
   "outputs": [],
   "source": [
    "def preprocess_nlp(project):\n",
    "    state_id_df = peta[['state', 'state_id']].drop_duplicates().sort_values('state_id')\n",
    "    state_to_id = dict(state_id_df.values)\n",
    "    id_to_state = dict(state_id_df[['state_id', 'state']].values)\n",
    "    \n",
    "    # import vectorizer\n",
    "    vectorizer = pickle.load(open('vectorizer.sav', 'rb'))\n",
    "    \n",
    "    return vectorizer.transform(project['blurb'])"
   ]
  },
  {
   "cell_type": "markdown",
   "metadata": {},
   "source": [
    "# The function that retuns the probability"
   ]
  },
  {
   "cell_type": "code",
   "execution_count": 37,
   "metadata": {},
   "outputs": [],
   "source": [
    "# Assuming that the input from the Web is sent as a dict format\n",
    "def model(iw):\n",
    "    # load model\n",
    "    cb_clf = pickle.load(open('Non_nlp_model', 'rb'))\n",
    "    lg_clf = pickle.load(open('nlp_model.sav', 'rb'))\n",
    "    \n",
    "    # predict\n",
    "    nnlp_pred = cb_clf.predict(preprocess_nnlp(iw))\n",
    "    nlp_pred = lg_clf.predict(preprocess_nlp(iw))\n",
    "    \n",
    "    # final probability\n",
    "    final_pred = (nnlp_pred + nlp_pred)[:,1] / 2\n",
    "    \n",
    "    return final_pred"
   ]
  },
  {
   "cell_type": "markdown",
   "metadata": {},
   "source": [
    "# for Testing"
   ]
  },
  {
   "cell_type": "code",
   "execution_count": 44,
   "metadata": {},
   "outputs": [],
   "source": [
    "# Connecting to the SQL server\n",
    "import psycopg2\n",
    "from psycopg2.extras import RealDictCursor\n",
    "import pandas as pd"
   ]
  },
  {
   "cell_type": "code",
   "execution_count": 45,
   "metadata": {},
   "outputs": [],
   "source": [
    "%run dbconn.ipynb"
   ]
  },
  {
   "cell_type": "code",
   "execution_count": 46,
   "metadata": {},
   "outputs": [],
   "source": [
    "conn.autocommit = True"
   ]
  },
  {
   "cell_type": "code",
   "execution_count": 47,
   "metadata": {},
   "outputs": [],
   "source": [
    "data = pd.DataFrame()"
   ]
  },
  {
   "cell_type": "code",
   "execution_count": 57,
   "metadata": {},
   "outputs": [],
   "source": [
    "# get state from DB and append to data DF\n",
    "state = []\n",
    "\n",
    "cur = conn.cursor(cursor_factory=RealDictCursor)\n",
    "sql = \"select * from ml.testcrawl2\"\n",
    "cur.execute(sql)\n",
    "res = cur.fetchall()\n",
    "\n",
    "for i in res:\n",
    "    sex = dict(i)\n",
    "    break"
   ]
  },
  {
   "cell_type": "code",
   "execution_count": 60,
   "metadata": {},
   "outputs": [
    {
     "data": {
      "text/html": [
       "<div>\n",
       "<style scoped>\n",
       "    .dataframe tbody tr th:only-of-type {\n",
       "        vertical-align: middle;\n",
       "    }\n",
       "\n",
       "    .dataframe tbody tr th {\n",
       "        vertical-align: top;\n",
       "    }\n",
       "\n",
       "    .dataframe thead th {\n",
       "        text-align: right;\n",
       "    }\n",
       "</style>\n",
       "<table border=\"1\" class=\"dataframe\">\n",
       "  <thead>\n",
       "    <tr style=\"text-align: right;\">\n",
       "      <th></th>\n",
       "      <th>id</th>\n",
       "      <th>collected_date</th>\n",
       "      <th>updated_date</th>\n",
       "      <th>name</th>\n",
       "      <th>blurb</th>\n",
       "      <th>state</th>\n",
       "      <th>category</th>\n",
       "      <th>country</th>\n",
       "      <th>funding_rate</th>\n",
       "      <th>pledged</th>\n",
       "      <th>goal</th>\n",
       "      <th>currency_type</th>\n",
       "      <th>usd_pledged_real</th>\n",
       "      <th>usd_goal_real</th>\n",
       "      <th>launched</th>\n",
       "      <th>deadline</th>\n",
       "      <th>term</th>\n",
       "      <th>term_bin</th>\n",
       "      <th>usd_goal_real_bin</th>\n",
       "      <th>backers</th>\n",
       "    </tr>\n",
       "  </thead>\n",
       "  <tbody>\n",
       "    <tr>\n",
       "      <th>0</th>\n",
       "      <td>1</td>\n",
       "      <td>2019-11-29</td>\n",
       "      <td>2019-11-29</td>\n",
       "      <td>Vintage Reborn: New Vintage Chicken Nugget Pla...</td>\n",
       "      <td>Remastering Jerrys Nuggets rare predecessor - ...</td>\n",
       "      <td>success</td>\n",
       "      <td>Games</td>\n",
       "      <td></td>\n",
       "      <td>345</td>\n",
       "      <td>34523</td>\n",
       "      <td>10000</td>\n",
       "      <td>USD (*)</td>\n",
       "      <td>34523.0</td>\n",
       "      <td>10000.0</td>\n",
       "      <td>2019-10-08</td>\n",
       "      <td>2019-11-15</td>\n",
       "      <td>38</td>\n",
       "      <td>5</td>\n",
       "      <td>5</td>\n",
       "      <td>514.0</td>\n",
       "    </tr>\n",
       "  </tbody>\n",
       "</table>\n",
       "</div>"
      ],
      "text/plain": [
       "   id collected_date updated_date  \\\n",
       "0   1     2019-11-29   2019-11-29   \n",
       "\n",
       "                                                name  \\\n",
       "0  Vintage Reborn: New Vintage Chicken Nugget Pla...   \n",
       "\n",
       "                                               blurb    state category  \\\n",
       "0  Remastering Jerrys Nuggets rare predecessor - ...  success    Games   \n",
       "\n",
       "  country  funding_rate  pledged   goal currency_type  usd_pledged_real  \\\n",
       "0                   345    34523  10000       USD (*)           34523.0   \n",
       "\n",
       "   usd_goal_real    launched    deadline  term  term_bin  usd_goal_real_bin  \\\n",
       "0        10000.0  2019-10-08  2019-11-15    38         5                  5   \n",
       "\n",
       "   backers  \n",
       "0    514.0  "
      ]
     },
     "execution_count": 60,
     "metadata": {},
     "output_type": "execute_result"
    }
   ],
   "source": [
    "df = pd.DataFrame([sex], columns=sex.keys())\n",
    "df"
   ]
  }
 ],
 "metadata": {
  "kernelspec": {
   "display_name": "Python 3",
   "language": "python",
   "name": "python3"
  },
  "language_info": {
   "codemirror_mode": {
    "name": "ipython",
    "version": 3
   },
   "file_extension": ".py",
   "mimetype": "text/x-python",
   "name": "python",
   "nbconvert_exporter": "python",
   "pygments_lexer": "ipython3",
   "version": "3.7.3"
  }
 },
 "nbformat": 4,
 "nbformat_minor": 2
}
