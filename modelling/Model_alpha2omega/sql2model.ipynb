{
 "cells": [
  {
   "cell_type": "markdown",
   "metadata": {},
   "source": [
    "# Get Data from SQL\n",
    "Set the weight of voting"
   ]
  },
  {
   "cell_type": "code",
   "execution_count": 8,
   "metadata": {},
   "outputs": [],
   "source": [
    "# Modules for string cleanup\n",
    "import re\n",
    "\n",
    "import pandas as pd"
   ]
  },
  {
   "cell_type": "code",
   "execution_count": 41,
   "metadata": {},
   "outputs": [],
   "source": [
    "# Connecting to the SQL server\n",
    "import psycopg2\n",
    "from psycopg2.extras import RealDictCursor\n",
    "\n",
    "con = psycopg2.connect(host= \"tellusdb.c2cmjzbcoofu.us-east-1.rds.amazonaws.com\",\n",
    "       database= \"tellusDB\",\n",
    "       user= \"awspostgres\",\n",
    "       password= \"dlrhkdcnsrytnslaWkd!\",\n",
    "       port=5432)\n",
    "\n",
    "con.autocommit = True"
   ]
  },
  {
   "cell_type": "code",
   "execution_count": 38,
   "metadata": {},
   "outputs": [],
   "source": [
    "data = pd.DataFrame()"
   ]
  },
  {
   "cell_type": "markdown",
   "metadata": {},
   "source": [
    "# data for all"
   ]
  },
  {
   "cell_type": "code",
   "execution_count": 39,
   "metadata": {},
   "outputs": [],
   "source": [
    "# get state from DB and append to data DF\n",
    "state = []\n",
    "\n",
    "cur = con.cursor(cursor_factory=RealDictCursor)\n",
    "sql = \"select state from ml.testcrawl2\"\n",
    "cur.execute(sql)\n",
    "res = cur.fetchall()\n",
    "\n",
    "for i in res:\n",
    "    state.append(i['state'])\n",
    "    \n",
    "data['state'] = state\n",
    "\n",
    "# binnarize the dependent variable\n",
    "data['state_bin'] = data['state'].apply(lambda x: 0 if x == 'fail' else 1)"
   ]
  },
  {
   "cell_type": "markdown",
   "metadata": {},
   "source": [
    "# data for NLP"
   ]
  },
  {
   "cell_type": "code",
   "execution_count": 33,
   "metadata": {},
   "outputs": [],
   "source": [
    "# get blurb from DB and append to data DF\n",
    "blurb = []\n",
    "\n",
    "cur = con.cursor(cursor_factory=RealDictCursor)\n",
    "sql = \"select blurb from ml.testcrawl2\"\n",
    "cur.execute(sql)\n",
    "res = cur.fetchall()\n",
    "\n",
    "for i in res:\n",
    "    blurb.append(i['blurb'])\n",
    "    \n",
    "data['blurb'] = blurb"
   ]
  },
  {
   "cell_type": "markdown",
   "metadata": {},
   "source": [
    "# data for non-NLP"
   ]
  },
  {
   "cell_type": "code",
   "execution_count": 43,
   "metadata": {},
   "outputs": [
    {
     "name": "stdout",
     "output_type": "stream",
     "text": [
      "RealDictRow([('id', 56), ('collected_date', '2019-11-27'), ('name', 'The Puzzle Of Us'), ('blurb', 'A therapeutic childrens picture book & puzzle, based on principles of Attachment Theory. A journey between child and carer.'), ('state', 'success'), ('category', 'Publishing'), ('funding_rate', 115), ('pledged', 7537), ('goal', 6500), ('currency_type', 'AUD'), ('usd_pledged_real', 5110.98), ('usd_goal_real', 4407.77), ('launched', '2019-11-06'), ('deadline', '2019-11-27'), ('term', 21), ('term_bin', 3), ('usd_goal_real_bin', 4), ('backers', 86.0), ('updated_date', '2019-11-27')])\n",
      "RealDictRow([('id', 57), ('collected_date', '2019-11-27'), ('name', 'A MAZE. NOT DEAD'), ('blurb', 'Help the art, games, playful media festival and international platform, A MAZE. , reach a more sustainable future. #AmazeNotDead'), ('state', 'success'), ('category', 'Games'), ('funding_rate', 115), ('pledged', 57894), ('goal', 50000), ('currency_type', 'EUR'), ('usd_pledged_real', 63762.4), ('usd_goal_real', 55068.3), ('launched', '2019-11-03'), ('deadline', '2019-11-27'), ('term', 24), ('term_bin', 4), ('usd_goal_real_bin', 7), ('backers', 525.0), ('updated_date', '2019-11-27')])\n",
      "RealDictRow([('id', 58), ('collected_date', '2019-11-27'), ('name', 'Word Smith - Volume 1 & 2 - The Competition'), ('blurb', 'A steampunk fantasy adventure graphic novel where words come to life!'), ('state', 'success'), ('category', 'Comics'), ('funding_rate', 237), ('pledged', 9503), ('goal', 3999), ('currency_type', 'AUD'), ('usd_pledged_real', 6444.16), ('usd_goal_real', 2711.8), ('launched', '2019-10-27'), ('deadline', '2019-11-27'), ('term', 31), ('term_bin', 5), ('usd_goal_real_bin', 3), ('backers', 326.0), ('updated_date', '2019-11-27')])\n",
      "RealDictRow([('id', 59), ('collected_date', '2019-11-27'), ('name', 'Swiv•a•ball - The Ball Balancing Skill Toy & Game'), ('blurb', 'How long you can balance the ball on the domed disc? Play solo, go head-to-head, play as a team, or do tricks!'), ('state', 'success'), ('category', 'Games'), ('funding_rate', 300), ('pledged', 1504), ('goal', 500), ('currency_type', 'USD'), ('usd_pledged_real', 1504.0), ('usd_goal_real', 500.0), ('launched', '2019-09-28'), ('deadline', '2019-11-27'), ('term', 60), ('term_bin', 6), ('usd_goal_real_bin', 1), ('backers', 41.0), ('updated_date', '2019-11-27')])\n",
      "RealDictRow([('id', 67), ('collected_date', '2019-11-27'), ('name', 'VISION Z: Custom Eyewear for a Zero Waste Future'), ('blurb', 'Custom Laser Crafted Eyewear for a Perfect Fit, with Zero Waste. Scan your Face to Build Without Waste.'), ('state', 'success'), ('category', 'Fashion'), ('funding_rate', 191), ('pledged', 28752), ('goal', 15000), ('currency_type', 'USD'), ('usd_pledged_real', 28752.0), ('usd_goal_real', 15000.0), ('launched', '2019-10-28'), ('deadline', '2019-11-27'), ('term', 30), ('term_bin', 4), ('usd_goal_real_bin', 6), ('backers', 125.0), ('updated_date', '2019-11-27')])\n",
      "RealDictRow([('id', 69), ('collected_date', '2019-11-27'), ('name', 'Void Eclipse: A Sci-Fi Strategy Game'), ('blurb', 'Lead an alien empire faced with a mysterious threat and discover your origins in a galaxy of unique star systems!'), ('state', 'success'), ('category', 'Games'), ('funding_rate', 104), ('pledged', 15639), ('goal', 15000), ('currency_type', 'USD'), ('usd_pledged_real', 15639.0), ('usd_goal_real', 15000.0), ('launched', '2019-10-28'), ('deadline', '2019-11-27'), ('term', 30), ('term_bin', 4), ('usd_goal_real_bin', 6), ('backers', 147.0), ('updated_date', '2019-11-28')])\n",
      "RealDictRow([('id', 70), ('collected_date', '2019-11-27'), ('name', 'The Jötunn War Issue Two'), ('blurb', 'A war as old as time, where fate itself hangs in the balance.'), ('state', 'success'), ('category', 'Comics'), ('funding_rate', 153), ('pledged', 3076), ('goal', 2000), ('currency_type', 'CAD'), ('usd_pledged_real', 2311.04), ('usd_goal_real', 1502.63), ('launched', '2019-10-28'), ('deadline', '2019-11-27'), ('term', 30), ('term_bin', 4), ('usd_goal_real_bin', 3), ('backers', 101.0), ('updated_date', '2019-11-28')])\n",
      "RealDictRow([('id', 71), ('collected_date', '2019-11-27'), ('name', 'HERSHEY...soap?'), ('blurb', 'ITS A CANDY BAR BUT IF YOU EAT IT YOULL PUKE!!'), ('state', 'success'), ('category', 'Art'), ('funding_rate', 103), ('pledged', 388), ('goal', 375), ('currency_type', 'USD'), ('usd_pledged_real', 388.0), ('usd_goal_real', 375.0), ('launched', '2019-11-06'), ('deadline', '2019-11-27'), ('term', 21), ('term_bin', 3), ('usd_goal_real_bin', 1), ('backers', 22.0), ('updated_date', '2019-11-28')])\n",
      "RealDictRow([('id', 72), ('collected_date', '2019-11-27'), ('name', 'COSCLAY: The Future of Polymer Clay is Flexible!'), ('blurb', 'A game changing, hybrid plastic/rubber polymer clay that will retain high flexibility after curing.'), ('state', 'success'), ('category', 'Design'), ('funding_rate', 679), ('pledged', 135914), ('goal', 20000), ('currency_type', 'USD'), ('usd_pledged_real', 135914.0), ('usd_goal_real', 20000.0), ('launched', '2019-10-30'), ('deadline', '2019-11-27'), ('term', 28), ('term_bin', 4), ('usd_goal_real_bin', 6), ('backers', 1665.0), ('updated_date', '2019-11-28')])\n",
      "RealDictRow([('id', 73), ('collected_date', '2019-11-27'), ('name', 'The Whisky Tray'), ('blurb', 'A dedicated limited-edition whisky tray with whisky aromas and whisky colours for whisky drinkers. Whisky (and Whiskey), o-be-joyful!'), ('state', 'success'), ('category', 'Design'), ('funding_rate', 114), ('pledged', 12021), ('goal', 10500), ('currency_type', 'DKK'), ('usd_pledged_real', 1771.9), ('usd_goal_real', 1547.7), ('launched', '2019-11-19'), ('deadline', '2019-11-27'), ('term', 8), ('term_bin', 1), ('usd_goal_real_bin', 3), ('backers', 41.0), ('updated_date', '2019-11-28')])\n",
      "RealDictRow([('id', 83), ('collected_date', '2019-11-28'), ('name', 'Fanmade BTS Persona R-Card Enamel Pins'), ('blurb', 'Superstar BTS R-Cards as enamel pins? Precisely. I’m an artist and BTS fan looking to share my art through pins!'), ('state', 'fail'), ('category', 'Art'), ('funding_rate', 2), ('pledged', 56), ('goal', 2500), ('currency_type', 'USD'), ('usd_pledged_real', 56.0), ('usd_goal_real', 2500.0), ('launched', '2020-11-20'), ('deadline', '2020-01-19'), ('term', -306), ('term_bin', 1), ('usd_goal_real_bin', 3), ('backers', 2.0), ('updated_date', '2019-11-28')])\n",
      "RealDictRow([('id', 84), ('collected_date', '2019-11-28'), ('name', 'Personal Touch'), ('blurb', 'Video Payment Application for Non Profits and Video Professionals'), ('state', 'fail'), ('category', 'Technology'), ('funding_rate', 6), ('pledged', 311), ('goal', 5000), ('currency_type', 'USD'), ('usd_pledged_real', 311.0), ('usd_goal_real', 5000.0), ('launched', '2020-11-19'), ('deadline', '2020-01-18'), ('term', -306), ('term_bin', 1), ('usd_goal_real_bin', 4), ('backers', 10.0), ('updated_date', '2019-11-28')])\n",
      "RealDictRow([('id', 85), ('collected_date', '2019-11-28'), ('name', 'S.I.T.T.Y - Stay In True To Yourself'), ('blurb', 'MISSION To improve the lives of individuals and groups by facilitating the necessary discussion of how to stay in true to yourself.'), ('state', 'fail'), ('category', 'Comics'), ('funding_rate', 0), ('pledged', 1), ('goal', 4500), ('currency_type', 'USD'), ('usd_pledged_real', 1.0), ('usd_goal_real', 4500.0), ('launched', '2020-11-19'), ('deadline', '2020-01-18'), ('term', -306), ('term_bin', 1), ('usd_goal_real_bin', 4), ('backers', 1.0), ('updated_date', '2019-11-28')])\n",
      "RealDictRow([('id', 60), ('collected_date', '2019-11-27'), ('name', 'PhoneBook: Turn ANY Smartphone into a Laptop Computer'), ('blurb', 'A plug-in-and-play device that can turn ANY smartphone into a 15.6” touchscreen laptop in seconds'), ('state', 'success'), ('category', 'Technology'), ('funding_rate', 1269), ('pledged', 476146), ('goal', 37500), ('currency_type', 'USD'), ('usd_pledged_real', 476146.0), ('usd_goal_real', 37500.0), ('launched', '2019-10-28'), ('deadline', '2019-11-27'), ('term', 30), ('term_bin', 4), ('usd_goal_real_bin', 6), ('backers', 2187.0), ('updated_date', '2019-11-27')])\n",
      "RealDictRow([('id', 61), ('collected_date', '2019-11-27'), ('name', 'The Worlds First Odor and Stain Resistant Knit Shoe'), ('blurb', 'Say goodbye to stinky shoes and never be afraid to wear white. Lightweight. Fast Drying. This is your new go-to.'), ('state', 'success'), ('category', 'Design'), ('funding_rate', 368), ('pledged', 73746), ('goal', 20000), ('currency_type', 'USD'), ('usd_pledged_real', 73746.0), ('usd_goal_real', 20000.0), ('launched', '2019-10-28'), ('deadline', '2019-11-27'), ('term', 30), ('term_bin', 4), ('usd_goal_real_bin', 6), ('backers', 249.0), ('updated_date', '2019-11-27')])\n",
      "RealDictRow([('id', 62), ('collected_date', '2019-11-27'), ('name', 'The Illyrian Wars (podcast miniseries)'), ('blurb', 'A podcast miniseries examining a series of wars between Rome and Illyria across the Adriatic Sea (229–168 BCE)'), ('state', 'success'), ('category', 'Publishing'), ('funding_rate', 185), ('pledged', 3713), ('goal', 2000), ('currency_type', 'AUD'), ('usd_pledged_real', 2517.85), ('usd_goal_real', 1356.24), ('launched', '2019-10-30'), ('deadline', '2019-11-27'), ('term', 28), ('term_bin', 4), ('usd_goal_real_bin', 3), ('backers', 242.0), ('updated_date', '2019-11-27')])\n",
      "RealDictRow([('id', 63), ('collected_date', '2019-11-27'), ('name', 'Vocal Coalition presents Black Music Matters 3.0'), ('blurb', 'Help Vocal Coalition take our Black Music Matters event to the next level.'), ('state', 'success'), ('category', 'Music'), ('funding_rate', 102), ('pledged', 23011), ('goal', 22436), ('currency_type', 'USD'), ('usd_pledged_real', 23011.0), ('usd_goal_real', 22436.0), ('launched', '2019-10-28'), ('deadline', '2019-11-27'), ('term', 30), ('term_bin', 4), ('usd_goal_real_bin', 6), ('backers', 117.0), ('updated_date', '2019-11-27')])\n",
      "RealDictRow([('id', 64), ('collected_date', '2019-11-27'), ('name', 'Raw Art for Real People'), ('blurb', 'Prints are nice but everyone deseres an original. I have endless sketchbooks filled with pencil and ink illustrations.'), ('state', 'success'), ('category', 'Art'), ('funding_rate', 100), ('pledged', 201), ('goal', 200), ('currency_type', 'USD'), ('usd_pledged_real', 201.0), ('usd_goal_real', 200.0), ('launched', '2019-10-25'), ('deadline', '2019-11-27'), ('term', 33), ('term_bin', 5), ('usd_goal_real_bin', 1), ('backers', 2.0), ('updated_date', '2019-11-27')])\n",
      "RealDictRow([('id', 65), ('collected_date', '2019-11-27'), ('name', 'TRASKA Summiteer | The Quintessential Mechanical Sport Watch'), ('blurb', 'Modern yet timeless, hardened stainless steel makes the Summiteer a formidable traveling companion.'), ('state', 'success'), ('category', 'Design'), ('funding_rate', 506), ('pledged', 126627), ('goal', 25000), ('currency_type', 'USD'), ('usd_pledged_real', 126627.0), ('usd_goal_real', 25000.0), ('launched', '2019-10-28'), ('deadline', '2019-11-27'), ('term', 30), ('term_bin', 4), ('usd_goal_real_bin', 6), ('backers', 302.0), ('updated_date', '2019-11-27')])\n",
      "RealDictRow([('id', 66), ('collected_date', '2019-11-27'), ('name', 'Mine To Avenge: Book of Layla #1-3'), ('blurb', 'In a time of technological marvels, an ancient evil rises. The 3rd chapter in the Book Of Layla is here.'), ('state', 'success'), ('category', 'Comics'), ('funding_rate', 104), ('pledged', 4900), ('goal', 4700), ('currency_type', 'USD'), ('usd_pledged_real', 4900.0), ('usd_goal_real', 4700.0), ('launched', '2019-10-28'), ('deadline', '2019-11-27'), ('term', 30), ('term_bin', 4), ('usd_goal_real_bin', 4), ('backers', 201.0), ('updated_date', '2019-11-27')])\n",
      "RealDictRow([('id', 74), ('collected_date', '2019-11-27'), ('name', 'Five Cents A Can: Making Visible the Invisible - Art Exhibit'), ('blurb', 'Art exhibition of paintings and sculptures about elderlies and immigrants who survive on recycling cans and bottles'), ('state', 'success'), ('category', 'Art'), ('funding_rate', 125), ('pledged', 12573), ('goal', 10000), ('currency_type', 'USD'), ('usd_pledged_real', 12573.0), ('usd_goal_real', 10000.0), ('launched', '2019-10-28'), ('deadline', '2019-11-27'), ('term', 30), ('term_bin', 4), ('usd_goal_real_bin', 5), ('backers', 150.0), ('updated_date', '2019-11-28')])\n",
      "RealDictRow([('id', 81), ('collected_date', '2019-11-28'), ('name', 'Letters for Sarah Mixtape'), ('blurb', 'I am creating a new genre of rap music/fusing it with cinematic storylines.'), ('state', 'fail'), ('category', 'Music'), ('funding_rate', 0), ('pledged', 1), ('goal', 10000), ('currency_type', 'AUD'), ('usd_pledged_real', 0.68), ('usd_goal_real', 6781.19), ('launched', '2020-11-23'), ('deadline', '2020-01-22'), ('term', -306), ('term_bin', 1), ('usd_goal_real_bin', 5), ('backers', 1.0), ('updated_date', '2019-11-28')])\n",
      "RealDictRow([('id', 82), ('collected_date', '2019-11-28'), ('name', 'LA CERISE SUR LE GHETTO'), ('blurb', 'Mon nouveau jeux de société sur le thème des gangsters de Montréal. Jai besoin de financement pour le faire produire. Merci'), ('state', 'fail'), ('category', 'Games'), ('funding_rate', 0), ('pledged', 2), ('goal', 4000), ('currency_type', 'EUR'), ('usd_pledged_real', 2.2), ('usd_goal_real', 4405.46), ('launched', '2020-11-21'), ('deadline', '2020-01-20'), ('term', -306), ('term_bin', 1), ('usd_goal_real_bin', 4), ('backers', 2.0), ('updated_date', '2019-11-28')])\n",
      "RealDictRow([('id', 86), ('collected_date', '2019-11-28'), ('name', 'GameBox - Standard Edition'), ('blurb', 'Custom fan made items based on the popular Witcher Series.'), ('state', 'fail'), ('category', 'Games'), ('funding_rate', 3), ('pledged', 4529), ('goal', 145409), ('currency_type', 'SEK'), ('usd_pledged_real', 470.09), ('usd_goal_real', 15092.9), ('launched', '2020-11-18'), ('deadline', '2020-01-17'), ('term', -306), ('term_bin', 1), ('usd_goal_real_bin', 6), ('backers', 6.0), ('updated_date', '2019-11-28')])\n",
      "RealDictRow([('id', 87), ('collected_date', '2019-11-28'), ('name', 'Copper Nation Join The Tribe!'), ('blurb', 'We strive to promote the identity of the copper colored people through our brand and showing our copper pride!'), ('state', 'fail'), ('category', 'Fashion'), ('funding_rate', 0), ('pledged', 1), ('goal', 20000), ('currency_type', 'USD'), ('usd_pledged_real', 1.0), ('usd_goal_real', 20000.0), ('launched', '2020-11-17'), ('deadline', '2020-01-16'), ('term', -306), ('term_bin', 1), ('usd_goal_real_bin', 6), ('backers', 1.0), ('updated_date', '2019-11-28')])\n",
      "RealDictRow([('id', 88), ('collected_date', '2019-11-28'), ('name', 'Converting a Classroom to a Gallery'), ('blurb', 'Im currently remodeling an old school classroom to a white cube gallery to start bringing cutting edge exhibitions to Wichita.'), ('state', 'fail'), ('category', 'Art'), ('funding_rate', 5), ('pledged', 201), ('goal', 3500), ('currency_type', 'USD'), ('usd_pledged_real', 201.0), ('usd_goal_real', 3500.0), ('launched', '2020-11-21'), ('deadline', '2020-01-15'), ('term', -311), ('term_bin', 1), ('usd_goal_real_bin', 4), ('backers', 4.0), ('updated_date', '2019-11-28')])\n",
      "RealDictRow([('id', 68), ('collected_date', '2019-11-27'), ('name', 'Renovation of a studio space'), ('blurb', 'Ill be renovating a studio in the woods that I will open as a nature inspired shop and public workshop space.'), ('state', 'success'), ('category', 'Art'), ('funding_rate', 110), ('pledged', 3300), ('goal', 3000), ('currency_type', 'GBP'), ('usd_pledged_real', 4255.68), ('usd_goal_real', 3868.8), ('launched', '2019-10-28'), ('deadline', '2019-11-27'), ('term', 30), ('term_bin', 4), ('usd_goal_real_bin', 4), ('backers', 27.0), ('updated_date', '2019-11-28')])\n",
      "RealDictRow([('id', 89), ('collected_date', '2019-11-28'), ('name', 'Two 12 year olds creating a mobile app for building trust.'), ('blurb', 'A Platform to build a network of trust. Share kindness and enrich community via a medium of food. Free to download and use the App.'), ('state', 'fail'), ('category', 'Technology'), ('funding_rate', 4), ('pledged', 4701), ('goal', 100000), ('currency_type', 'USD'), ('usd_pledged_real', 4701.0), ('usd_goal_real', 100000.0), ('launched', '2020-11-16'), ('deadline', '2020-01-15'), ('term', -306), ('term_bin', 1), ('usd_goal_real_bin', 7), ('backers', 28.0), ('updated_date', '2019-11-28')])\n",
      "RealDictRow([('id', 90), ('collected_date', '2019-11-28'), ('name', 'Little Box Farms Pesto'), ('blurb', 'Handmade NUT-FREE pesto (traditional and vegan)'), ('state', 'fail'), ('category', 'Food'), ('funding_rate', 0), ('pledged', 34), ('goal', 7000), ('currency_type', 'USD'), ('usd_pledged_real', 34.0), ('usd_goal_real', 7000.0), ('launched', '2020-11-14'), ('deadline', '2020-01-13'), ('term', -306), ('term_bin', 1), ('usd_goal_real_bin', 5), ('backers', 3.0), ('updated_date', '2019-11-28')])\n",
      "RealDictRow([('id', 75), ('collected_date', '2019-11-27'), ('name', 'The Locksmith 4: Some Things Are Better Left Undead'), ('blurb', 'Noir meets Science Fiction. A Detective travels back in time to free his guilt-ridden soul and save the human species from extinction.'), ('state', 'success'), ('category', 'Comics'), ('funding_rate', 176), ('pledged', 5651), ('goal', 3200), ('currency_type', 'USD'), ('usd_pledged_real', 5651.0), ('usd_goal_real', 3200.0), ('launched', '2019-10-28'), ('deadline', '2019-11-27'), ('term', 30), ('term_bin', 4), ('usd_goal_real_bin', 4), ('backers', 177.0), ('updated_date', '2019-11-27')])\n",
      "RealDictRow([('id', 8), ('collected_date', '2019-11-26'), ('name', 'KNGDM Athletics'), ('blurb', 'Performance apparel clothing brand!'), ('state', 'fail'), ('category', 'Fashion'), ('funding_rate', 0), ('pledged', 21), ('goal', 3000), ('currency_type', 'USD'), ('usd_pledged_real', 21.0), ('usd_goal_real', 3000.0), ('launched', '2020-11-11'), ('deadline', '2020-01-10'), ('term', -306), ('term_bin', 1), ('usd_goal_real_bin', 3), ('backers', 2.0), ('updated_date', '2019-11-27')])\n",
      "RealDictRow([('id', 10), ('collected_date', '2019-11-26'), ('name', 'New Album \"Conspiracy\"'), ('blurb', 'New album release as independent artists. Music that matters'), ('state', 'fail'), ('category', 'Music'), ('funding_rate', 0), ('pledged', 1), ('goal', 8000), ('currency_type', 'USD'), ('usd_pledged_real', 1.0), ('usd_goal_real', 8000.0), ('launched', '2020-11-09'), ('deadline', '2020-01-08'), ('term', -306), ('term_bin', 1), ('usd_goal_real_bin', 5), ('backers', 1.0), ('updated_date', '2019-11-27')])\n",
      "RealDictRow([('id', 33), ('collected_date', '2019-11-27'), ('name', 'Vintage Reborn: New Vintage Chicken Nugget Playing Cards!'), ('blurb', 'Remastering Jerrys Nuggets rare predecessor - the Vintage Jerrys Nugget! Try the deck, and you will never go back.'), ('state', 'success'), ('category', 'Games'), ('funding_rate', 345), ('pledged', 34568), ('goal', 10000), ('currency_type', 'USD (*)'), ('usd_pledged_real', 34568.0), ('usd_goal_real', 10000.0), ('launched', '2019-10-08'), ('deadline', '2019-11-15'), ('term', 38), ('term_bin', 5), ('usd_goal_real_bin', 5), ('backers', 515.0), ('updated_date', '2019-11-28')])\n",
      "RealDictRow([('id', 91), ('collected_date', '2019-11-28'), ('name', 'Housinet, property management in the palm of your hand.'), ('blurb', 'Housinet is a property management software that uses blockchain, cryptocurrency and rules based automation to modernize the industry.'), ('state', 'fail'), ('category', 'Technology'), ('funding_rate', 0), ('pledged', 1), ('goal', 2000000), ('currency_type', 'USD'), ('usd_pledged_real', 1.0), ('usd_goal_real', 2000000.0), ('launched', '2020-11-14'), ('deadline', '2020-01-13'), ('term', -306), ('term_bin', 1), ('usd_goal_real_bin', 8), ('backers', 1.0), ('updated_date', '2019-11-28')])\n",
      "RealDictRow([('id', 92), ('collected_date', '2019-11-28'), ('name', 'Ouverture de LAtelier à Tahiti !'), ('blurb', 'Ouverture de LAtelier à Tahiti ! Objectif : créer un lieu outil, mélange de FabLab et Makerspace en Polynésie'), ('state', 'fail'), ('category', 'Technology'), ('funding_rate', 0), ('pledged', 1), ('goal', 10000), ('currency_type', 'EUR'), ('usd_pledged_real', 1.1), ('usd_goal_real', 11013.7), ('launched', '2020-11-13'), ('deadline', '2020-01-12'), ('term', -306), ('term_bin', 1), ('usd_goal_real_bin', 6), ('backers', 1.0), ('updated_date', '2019-11-28')])\n",
      "RealDictRow([('id', 93), ('collected_date', '2019-11-28'), ('name', 'The Hydronut - Stops Slash and Burn Farming practices.'), ('blurb', 'A easily built hydroponic growing system using worm casting and Humus tea a natural fertilizers. Made entirely on Bamboo and coconuts,'), ('state', 'fail'), ('category', 'Food'), ('funding_rate', 0), ('pledged', 1), ('goal', 14000), ('currency_type', 'USD'), ('usd_pledged_real', 1.0), ('usd_goal_real', 14000.0), ('launched', '2020-11-13'), ('deadline', '2020-01-12'), ('term', -306), ('term_bin', 1), ('usd_goal_real_bin', 6), ('backers', 1.0), ('updated_date', '2019-11-28')])\n",
      "RealDictRow([('id', 94), ('collected_date', '2019-11-28'), ('name', 'A brand new search engine for Fake Stories'), ('blurb', 'Its a unique search engine designed exclusively for retrieving Fake Stories and their Authors, filling a gap left by Multipurpose tool'), ('state', 'fail'), ('category', 'Technology'), ('funding_rate', 0), ('pledged', 6), ('goal', 12000), ('currency_type', 'EUR'), ('usd_pledged_real', 6.61), ('usd_goal_real', 13216.4), ('launched', '2020-11-13'), ('deadline', '2020-01-12'), ('term', -306), ('term_bin', 1), ('usd_goal_real_bin', 6), ('backers', 2.0), ('updated_date', '2019-11-28')])\n",
      "RealDictRow([('id', 95), ('collected_date', '2019-11-28'), ('name', 'EZ scrub (shower product)'), ('blurb', 'I created EZ scrub. It’s a hand held device that releases body wash into the loofah and you wash yourself. Helps all people bath easier'), ('state', 'fail'), ('category', 'Design'), ('funding_rate', 0), ('pledged', 0), ('goal', 40000), ('currency_type', 'USD'), ('usd_pledged_real', 0.0), ('usd_goal_real', 40000.0), ('launched', '2020-11-12'), ('deadline', '2020-01-11'), ('term', -306), ('term_bin', 1), ('usd_goal_real_bin', 6), ('backers', 0.0), ('updated_date', '2019-11-28')])\n",
      "RealDictRow([('id', 1), ('collected_date', '2019-11-26'), ('name', 'Galilean Moons - A Board Game of Galactic Mining'), ('blurb', '1-4 players travel to the moons of Jupiter to claim territory and mine powerful gems left in the wake of a cosmic meteor shower.'), ('state', 'success'), ('category', 'Games'), ('funding_rate', 152), ('pledged', 25913), ('goal', 17000), ('currency_type', 'NZD'), ('usd_pledged_real', 16639.7), ('usd_goal_real', 10916.3), ('launched', '2019-10-29'), ('deadline', '2019-11-26'), ('term', 28), ('term_bin', 4), ('usd_goal_real_bin', 6), ('backers', 332.0), ('updated_date', '2019-11-26')])\n",
      "RealDictRow([('id', 2), ('collected_date', '2019-11-26'), ('name', 'Your next TV without the TV'), ('blurb', 'No remote. No menu. No nonsense.'), ('state', 'success'), ('category', 'Technology'), ('funding_rate', 137), ('pledged', 137766), ('goal', 100000), ('currency_type', 'DKK'), ('usd_pledged_real', 20306.7), ('usd_goal_real', 14740.0), ('launched', '2019-10-29'), ('deadline', '2019-11-26'), ('term', 28), ('term_bin', 4), ('usd_goal_real_bin', 6), ('backers', 45.0), ('updated_date', '2019-11-26')])\n",
      "RealDictRow([('id', 3), ('collected_date', '2019-11-26'), ('name', 'The Wishing Sigil'), ('blurb', 'An Advent-calendar-style journaling game delivered daily to your email from December 1 to December 25'), ('state', 'success'), ('category', 'Games'), ('funding_rate', 1581), ('pledged', 1581), ('goal', 100), ('currency_type', 'USD'), ('usd_pledged_real', 1581.0), ('usd_goal_real', 100.0), ('launched', '2019-11-12'), ('deadline', '2019-11-26'), ('term', 14), ('term_bin', 2), ('usd_goal_real_bin', 1), ('backers', 189.0), ('updated_date', '2019-11-26')])\n",
      "RealDictRow([('id', 4), ('collected_date', '2019-11-26'), ('name', 'The world’s first hemp sunglass line'), ('blurb', 'Handcrafted from hemp fibre and water, Hemp Eyewear is the ideal alternative to harmful plastics'), ('state', 'success'), ('category', 'Fashion'), ('funding_rate', 157), ('pledged', 12625), ('goal', 8000), ('currency_type', 'GBP'), ('usd_pledged_real', 16281.2), ('usd_goal_real', 10316.8), ('launched', '2019-10-22'), ('deadline', '2019-11-26'), ('term', 35), ('term_bin', 5), ('usd_goal_real_bin', 6), ('backers', 110.0), ('updated_date', '2019-11-26')])\n",
      "RealDictRow([('id', 5), ('collected_date', '2019-11-26'), ('name', \"Hydromatic C.01: German-Made Automatic Diver's Watches\"), ('blurb', 'Swiss Automatic, Ceramic Bezel, 200 m Water Resistance and a Unique Double-Dome Box Sapphire Crystal'), ('state', 'success'), ('category', 'Design'), ('funding_rate', 220), ('pledged', 44122), ('goal', 20000), ('currency_type', 'CAD'), ('usd_pledged_real', 33149.5), ('usd_goal_real', 15026.3), ('launched', '2019-11-12'), ('deadline', '2019-11-26'), ('term', 14), ('term_bin', 2), ('usd_goal_real_bin', 6), ('backers', 107.0), ('updated_date', '2019-11-26')])\n",
      "RealDictRow([('id', 6), ('collected_date', '2019-11-26'), ('name', 'Wickedly Whimsical Witches'), ('blurb', 'A coloring book by Lizzy D. depicting the lives of the Wickedly Whimsical Witches and their cats.'), ('state', 'success'), ('category', 'Art'), ('funding_rate', 178), ('pledged', 1252), ('goal', 700), ('currency_type', 'USD'), ('usd_pledged_real', 1252.0), ('usd_goal_real', 700.0), ('launched', '2019-11-01'), ('deadline', '2019-11-26'), ('term', 25), ('term_bin', 4), ('usd_goal_real_bin', 2), ('backers', 45.0), ('updated_date', '2019-11-26')])\n",
      "RealDictRow([('id', 7), ('collected_date', '2019-11-26'), ('name', '3D Miniature files for Mechanical Animals'), ('blurb', 'We are proud to present our first generation of models.'), ('state', 'success'), ('category', 'Games'), ('funding_rate', 115), ('pledged', 11067), ('goal', 9600), ('currency_type', 'MXN'), ('usd_pledged_real', 569.07), ('usd_goal_real', 493.63), ('launched', '2019-11-06'), ('deadline', '2019-11-26'), ('term', 20), ('term_bin', 3), ('usd_goal_real_bin', 1), ('backers', 23.0), ('updated_date', '2019-11-26')])\n",
      "RealDictRow([('id', 9), ('collected_date', '2019-11-26'), ('name', \"Let's Make CUBE FARM - Because we can’t all be models\"), ('blurb', 'Feature Film | Romantic Comedy | Office Satire'), ('state', 'fail'), ('category', 'Film & Video'), ('funding_rate', 0), ('pledged', 38), ('goal', 58447), ('currency_type', 'USD'), ('usd_pledged_real', 38.0), ('usd_goal_real', 58447.0), ('launched', '2020-11-11'), ('deadline', '2020-01-10'), ('term', -306), ('term_bin', 1), ('usd_goal_real_bin', 7), ('backers', 2.0), ('updated_date', '2019-11-26')])\n",
      "RealDictRow([('id', 34), ('collected_date', '2019-11-27'), ('name', 'Fluffy Faves Enamel Pins'), ('blurb', 'A collection of Hard Enamel Pins featuring a bunch of fluffy favorites.'), ('state', 'success'), ('category', 'Art'), ('funding_rate', 2642), ('pledged', 7928), ('goal', 300), ('currency_type', 'USD (*)'), ('usd_pledged_real', 7928.0), ('usd_goal_real', 300.0), ('launched', '2019-11-10'), ('deadline', '2019-11-25'), ('term', 15), ('term_bin', 2), ('usd_goal_real_bin', 1), ('backers', 163.0), ('updated_date', '2019-11-26')])\n",
      "RealDictRow([('id', 19), ('collected_date', '2019-11-26'), ('name', 'Lights out U.S.A.'), ('blurb', 'I am writing a book about the US attacking the US'), ('state', 'fail'), ('category', 'Publishing'), ('funding_rate', 12), ('pledged', 51), ('goal', 400), ('currency_type', 'AUD'), ('usd_pledged_real', 34.58), ('usd_goal_real', 271.25), ('launched', '2020-11-05'), ('deadline', '2020-01-04'), ('term', -306), ('term_bin', 1), ('usd_goal_real_bin', 1), ('backers', 2.0), ('updated_date', '2019-11-26')])\n",
      "RealDictRow([('id', 20), ('collected_date', '2019-11-26'), ('name', \"Send BASQUIAT's Iconic Totemic Figure To Burning Man 2020\"), ('blurb', \"Celebrate Basquiat's 60th Birthday with an Emerald, 35th Anniversary Edition of The Offs First Record and an Iconic Fine Art Print .\"), ('state', 'fail'), ('category', 'Art'), ('funding_rate', 0), ('pledged', 21), ('goal', 10000), ('currency_type', 'USD'), ('usd_pledged_real', 21.0), ('usd_goal_real', 10000.0), ('launched', '2020-11-05'), ('deadline', '2020-01-04'), ('term', -306), ('term_bin', 1), ('usd_goal_real_bin', 5), ('backers', 2.0), ('updated_date', '2019-11-26')])\n",
      "RealDictRow([('id', 21), ('collected_date', '2019-11-26'), ('name', 'Vertical Drop: A Collection of Friends'), ('blurb', \"Un corto sulle vite di giovani sciatori freerider e le loro avventure invernali sulle montagne della Valle d'Aosta\"), ('state', 'fail'), ('category', 'Film & Video'), ('funding_rate', 2), ('pledged', 21), ('goal', 1000), ('currency_type', 'EUR'), ('usd_pledged_real', 23.13), ('usd_goal_real', 1101.37), ('launched', '2020-11-05'), ('deadline', '2020-01-04'), ('term', -306), ('term_bin', 1), ('usd_goal_real_bin', 3), ('backers', 3.0), ('updated_date', '2019-11-26')])\n",
      "RealDictRow([('id', 22), ('collected_date', '2019-11-26'), ('name', 'Stop Hair épilation facile et non douleureuse'), ('blurb', 'Nous sommes en train de fabriquer un produit de haute qualité qui vous permettra de vous épiler de façon non douloureuse et simple.'), ('state', 'fail'), ('category', 'Fashion'), ('funding_rate', 0), ('pledged', 11), ('goal', 2000), ('currency_type', 'EUR'), ('usd_pledged_real', 12.12), ('usd_goal_real', 2202.73), ('launched', '2020-11-04'), ('deadline', '2020-01-03'), ('term', -306), ('term_bin', 1), ('usd_goal_real_bin', 3), ('backers', 2.0), ('updated_date', '2019-11-26')])\n",
      "RealDictRow([('id', 23), ('collected_date', '2019-11-26'), ('name', 'Demon Boy Aku - Enamel Pin'), ('blurb', \"A mask makers dream is to create beautiful wearable art? Well here's a pin of a mask maker, that will be just as beautiful right?\"), ('state', 'success'), ('category', 'Fashion'), ('funding_rate', 425), ('pledged', 2340), ('goal', 550), ('currency_type', 'CAD'), ('usd_pledged_real', 1758.08), ('usd_goal_real', 413.22), ('launched', '2019-10-26'), ('deadline', '2019-11-26'), ('term', 31), ('term_bin', 5), ('usd_goal_real_bin', 1), ('backers', 63.0), ('updated_date', '2019-11-26')])\n",
      "RealDictRow([('id', 24), ('collected_date', '2019-11-26'), ('name', 'Hour of Need'), ('blurb', 'A cooperative game of comic book action for 1-6 players designed by Adam and Brady Sadler.'), ('state', 'success'), ('category', 'Games'), ('funding_rate', 115), ('pledged', 115547), ('goal', 100000), ('currency_type', 'USD'), ('usd_pledged_real', 115547.0), ('usd_goal_real', 100000.0), ('launched', '2019-11-05'), ('deadline', '2019-11-26'), ('term', 21), ('term_bin', 3), ('usd_goal_real_bin', 7), ('backers', 1186.0), ('updated_date', '2019-11-26')])\n",
      "RealDictRow([('id', 25), ('collected_date', '2019-11-26'), ('name', 'The Walker Trolley: A Push Cart for the Player and Purist'), ('blurb', 'We are creating a golf push cart for those who respect the game as it was meant to be played...walking.'), ('state', 'success'), ('category', 'Design'), ('funding_rate', 123), ('pledged', 24756), ('goal', 20000), ('currency_type', 'USD'), ('usd_pledged_real', 24756.0), ('usd_goal_real', 20000.0), ('launched', '2019-10-29'), ('deadline', '2019-11-26'), ('term', 28), ('term_bin', 4), ('usd_goal_real_bin', 6), ('backers', 83.0), ('updated_date', '2019-11-26')])\n",
      "RealDictRow([('id', 26), ('collected_date', '2019-11-26'), ('name', \"Legend: Hell's Executioner #4\"), ('blurb', 'The Fall of Legend continues as the war to take over Hell spreads throughout the realm.'), ('state', 'success'), ('category', 'Comics'), ('funding_rate', 128), ('pledged', 4900), ('goal', 3800), ('currency_type', 'USD'), ('usd_pledged_real', 4900.0), ('usd_goal_real', 3800.0), ('launched', '2019-10-24'), ('deadline', '2019-11-26'), ('term', 33), ('term_bin', 5), ('usd_goal_real_bin', 4), ('backers', 133.0), ('updated_date', '2019-11-26')])\n",
      "RealDictRow([('id', 27), ('collected_date', '2019-11-26'), ('name', 'Aurum Lenormand'), ('blurb', 'A delicately illustrated black and white Lenormand cartomancy deck with gold foil detailing.'), ('state', 'success'), ('category', 'Publishing'), ('funding_rate', 229), ('pledged', 2752), ('goal', 1200), ('currency_type', 'CAD'), ('usd_pledged_real', 2067.62), ('usd_goal_real', 901.58), ('launched', '2019-10-27'), ('deadline', '2019-11-26'), ('term', 30), ('term_bin', 4), ('usd_goal_real_bin', 2), ('backers', 61.0), ('updated_date', '2019-11-26')])\n",
      "RealDictRow([('id', 28), ('collected_date', '2019-11-26'), ('name', 'BLOCK PARTY - The Webcomics Anthology'), ('blurb', 'Short, funny, weird and beautiful comics from 25 webcartoonists from all around the world.'), ('state', 'success'), ('category', 'Comics'), ('funding_rate', 103), ('pledged', 30808), ('goal', 29637), ('currency_type', 'CAD'), ('usd_pledged_real', 23146.5), ('usd_goal_real', 22266.7), ('launched', '2019-10-29'), ('deadline', '2019-11-26'), ('term', 28), ('term_bin', 4), ('usd_goal_real_bin', 6), ('backers', 573.0), ('updated_date', '2019-11-26')])\n",
      "RealDictRow([('id', 29), ('collected_date', '2019-11-26'), ('name', 'Ian Miller’s Grim Tarock'), ('blurb', 'A deck of 78 tarot-sized cards by fantasy art grand master Ian Miller.'), ('state', 'success'), ('category', 'Games'), ('funding_rate', 798), ('pledged', 23961), ('goal', 3000), ('currency_type', 'GBP'), ('usd_pledged_real', 30900.1), ('usd_goal_real', 3868.8), ('launched', '2019-11-12'), ('deadline', '2019-11-26'), ('term', 14), ('term_bin', 2), ('usd_goal_real_bin', 4), ('backers', 870.0), ('updated_date', '2019-11-26')])\n",
      "RealDictRow([('id', 30), ('collected_date', '2019-11-26'), ('name', 'Highway Philosophers'), ('blurb', 'A new album of poetic treasure maps on circus escaping, caterpillar racing, tire pressure & the meaning of life, and so. much. more.'), ('state', 'success'), ('category', 'Music'), ('funding_rate', 103), ('pledged', 10356), ('goal', 10000), ('currency_type', 'USD'), ('usd_pledged_real', 10356.0), ('usd_goal_real', 10000.0), ('launched', '2019-10-27'), ('deadline', '2019-11-26'), ('term', 30), ('term_bin', 4), ('usd_goal_real_bin', 5), ('backers', 137.0), ('updated_date', '2019-11-26')])\n",
      "RealDictRow([('id', 31), ('collected_date', '2019-11-26'), ('name', 'Super Scouts #1'), ('blurb', 'Galaxy Quest meets Power Rangers. 20 years past their prime, the TV actors of Super Scouts have their chance to claim cosmic power'), ('state', 'success'), ('category', 'Comics'), ('funding_rate', 113), ('pledged', 1135), ('goal', 1000), ('currency_type', 'USD'), ('usd_pledged_real', 1135.0), ('usd_goal_real', 1000.0), ('launched', '2019-11-05'), ('deadline', '2019-11-26'), ('term', 21), ('term_bin', 3), ('usd_goal_real_bin', 2), ('backers', 52.0), ('updated_date', '2019-11-26')])\n",
      "RealDictRow([('id', 32), ('collected_date', '2019-11-26'), ('name', 'From Kadath'), ('blurb', 'Creature from Outer Space and deranged Cultists are ready for The Ritual: the Stars are alligned for these new 32mm figures!'), ('state', 'success'), ('category', 'Games'), ('funding_rate', 134), ('pledged', 2023), ('goal', 1500), ('currency_type', 'EUR'), ('usd_pledged_real', 2228.06), ('usd_goal_real', 1652.05), ('launched', '2019-10-27'), ('deadline', '2019-11-26'), ('term', 30), ('term_bin', 4), ('usd_goal_real_bin', 3), ('backers', 46.0), ('updated_date', '2019-11-26')])\n",
      "RealDictRow([('id', 35), ('collected_date', '2019-11-27'), ('name', 'The world’s first hemp sunglass line'), ('blurb', 'Handcrafted from hemp fibre and water, Hemp Eyewear is the ideal alternative to harmful plastics'), ('state', 'success'), ('category', 'Fashion'), ('funding_rate', 158), ('pledged', 12694), ('goal', 8000), ('currency_type', 'GBP'), ('usd_pledged_real', 16370.2), ('usd_goal_real', 10316.8), ('launched', '2019-10-22'), ('deadline', '2019-11-26'), ('term', 35), ('term_bin', 5), ('usd_goal_real_bin', 6), ('backers', 112.0), ('updated_date', '2019-11-26')])\n",
      "RealDictRow([('id', 36), ('collected_date', '2019-11-27'), ('name', 'Hydromatic C.01: German-Made Automatic Divers Watches'), ('blurb', 'Swiss Automatic, Ceramic Bezel, 200 m Water Resistance and a Unique Double-Dome Box Sapphire Crystal'), ('state', 'success'), ('category', 'Design'), ('funding_rate', 224), ('pledged', 44960), ('goal', 20000), ('currency_type', 'CAD'), ('usd_pledged_real', 33779.1), ('usd_goal_real', 15026.3), ('launched', '2019-11-12'), ('deadline', '2019-11-26'), ('term', 14), ('term_bin', 2), ('usd_goal_real_bin', 6), ('backers', 109.0), ('updated_date', '2019-11-26')])\n",
      "RealDictRow([('id', 37), ('collected_date', '2019-11-27'), ('name', '3D Miniature files for Mechanical Animals'), ('blurb', 'We are proud to present our first generation of models.'), ('state', 'success'), ('category', 'Games'), ('funding_rate', 125), ('pledged', 12027), ('goal', 9600), ('currency_type', 'MXN'), ('usd_pledged_real', 618.43), ('usd_goal_real', 493.63), ('launched', '2019-11-06'), ('deadline', '2019-11-26'), ('term', 20), ('term_bin', 3), ('usd_goal_real_bin', 1), ('backers', 25.0), ('updated_date', '2019-11-26')])\n",
      "RealDictRow([('id', 38), ('collected_date', '2019-11-27'), ('name', 'Demon Boy Aku - Enamel Pin'), ('blurb', 'A mask makers dream is to create beautiful wearable art? Well heres a pin of a mask maker, that will be just as beautiful right?'), ('state', 'success'), ('category', 'Fashion'), ('funding_rate', 442), ('pledged', 2431), ('goal', 550), ('currency_type', 'CAD'), ('usd_pledged_real', 1826.45), ('usd_goal_real', 413.22), ('launched', '2019-10-26'), ('deadline', '2019-11-26'), ('term', 31), ('term_bin', 5), ('usd_goal_real_bin', 1), ('backers', 66.0), ('updated_date', '2019-11-26')])\n",
      "RealDictRow([('id', 39), ('collected_date', '2019-11-27'), ('name', 'Hour of Need'), ('blurb', 'A cooperative game of comic book action for 1-6 players designed by Adam and Brady Sadler.'), ('state', 'success'), ('category', 'Games'), ('funding_rate', 116), ('pledged', 116912), ('goal', 100000), ('currency_type', 'USD'), ('usd_pledged_real', 116912.0), ('usd_goal_real', 100000.0), ('launched', '2019-11-05'), ('deadline', '2019-11-26'), ('term', 21), ('term_bin', 3), ('usd_goal_real_bin', 7), ('backers', 1206.0), ('updated_date', '2019-11-26')])\n",
      "RealDictRow([('id', 40), ('collected_date', '2019-11-27'), ('name', 'Crossers Gate #1-4: A Thrilling Psychological Nightmare'), ('blurb', 'In a world where the darkness has a blood thirsty and cruel physical manifestation, is survival even an option? A Horror comic series.'), ('state', 'success'), ('category', 'Comics'), ('funding_rate', 104), ('pledged', 1560), ('goal', 1500), ('currency_type', 'USD'), ('usd_pledged_real', 1560.0), ('usd_goal_real', 1500.0), ('launched', '2019-11-05'), ('deadline', '2019-11-26'), ('term', 21), ('term_bin', 3), ('usd_goal_real_bin', 3), ('backers', 87.0), ('updated_date', '2019-11-26')])\n",
      "RealDictRow([('id', 41), ('collected_date', '2019-11-27'), ('name', 'Legend: Hells Executioner #4'), ('blurb', 'The Fall of Legend continues as the war to take over Hell spreads throughout the realm.'), ('state', 'success'), ('category', 'Comics'), ('funding_rate', 134), ('pledged', 5128), ('goal', 3800), ('currency_type', 'USD'), ('usd_pledged_real', 5128.0), ('usd_goal_real', 3800.0), ('launched', '2019-10-24'), ('deadline', '2019-11-26'), ('term', 33), ('term_bin', 5), ('usd_goal_real_bin', 4), ('backers', 139.0), ('updated_date', '2019-11-26')])\n",
      "RealDictRow([('id', 12), ('collected_date', '2019-11-26'), ('name', 'EASY NUTS. A Safe, Efficient and Easy-to-use Nutcracker'), ('blurb', 'EASY NUTS. Is a Nutcracker designed to be Safe, Efficient and Easy-to-use by everyone in the Family.'), ('state', 'fail'), ('category', 'Technology'), ('funding_rate', 0), ('pledged', 136), ('goal', 80000), ('currency_type', 'EUR'), ('usd_pledged_real', 149.79), ('usd_goal_real', 88109.2), ('launched', '2020-11-08'), ('deadline', '2020-01-07'), ('term', -306), ('term_bin', 1), ('usd_goal_real_bin', 7), ('backers', 4.0), ('updated_date', '2019-11-27')])\n",
      "RealDictRow([('id', 13), ('collected_date', '2019-11-26'), ('name', 'Silver Scream Weekend Minneapolis'), ('blurb', 'Silver Scream Weekend, a celebrity film convention in Minneapolis, MN to be held Sept. 25th-27th, 2020.'), ('state', 'fail'), ('category', 'Film & Video'), ('funding_rate', 0), ('pledged', 1), ('goal', 15000), ('currency_type', 'USD'), ('usd_pledged_real', 1.0), ('usd_goal_real', 15000.0), ('launched', '2020-11-08'), ('deadline', '2020-01-07'), ('term', -306), ('term_bin', 1), ('usd_goal_real_bin', 6), ('backers', 1.0), ('updated_date', '2019-11-27')])\n",
      "RealDictRow([('id', 14), ('collected_date', '2019-11-26'), ('name', 'Pikachu Luminous Figurine 80cm/31in'), ('blurb', 'We are creating the world first official 80cm/31in Pikachu luminous figurine in the world !'), ('state', 'fail'), ('category', 'Design'), ('funding_rate', 1), ('pledged', 701), ('goal', 42000), ('currency_type', 'EUR'), ('usd_pledged_real', 772.06), ('usd_goal_real', 46257.3), ('launched', '2020-11-07'), ('deadline', '2020-01-06'), ('term', -306), ('term_bin', 1), ('usd_goal_real_bin', 6), ('backers', 5.0), ('updated_date', '2019-11-27')])\n",
      "RealDictRow([('id', 15), ('collected_date', '2019-11-26'), ('name', 'Eyelash Wand Prototype'), ('blurb', 'Save time and money and still have lengthy individual eyelashes.'), ('state', 'fail'), ('category', 'Fashion'), ('funding_rate', 0), ('pledged', 1), ('goal', 20000), ('currency_type', 'GBP'), ('usd_pledged_real', 1.29), ('usd_goal_real', 25792.0), ('launched', '2020-11-07'), ('deadline', '2020-01-06'), ('term', -306), ('term_bin', 1), ('usd_goal_real_bin', 6), ('backers', 1.0), ('updated_date', '2019-11-27')])\n",
      "RealDictRow([('id', 16), ('collected_date', '2019-11-26'), ('name', 'Sharpin - digital pinball machine'), ('blurb', 'sharp design, portable and affortable'), ('state', 'fail'), ('category', 'Technology'), ('funding_rate', 26), ('pledged', 6664), ('goal', 25000), ('currency_type', 'EUR'), ('usd_pledged_real', 7339.5), ('usd_goal_real', 27534.1), ('launched', '2020-11-07'), ('deadline', '2020-01-06'), ('term', -306), ('term_bin', 1), ('usd_goal_real_bin', 6), ('backers', 23.0), ('updated_date', '2019-11-27')])\n",
      "RealDictRow([('id', 17), ('collected_date', '2019-11-26'), ('name', 'DSPsandbox - Canvas'), ('blurb', 'Graphical FPGA development tool for makers and enthusiast'), ('state', 'fail'), ('category', 'Technology'), ('funding_rate', 0), ('pledged', 2), ('goal', 10000), ('currency_type', 'EUR'), ('usd_pledged_real', 2.2), ('usd_goal_real', 11013.7), ('launched', '2020-11-06'), ('deadline', '2020-01-05'), ('term', -306), ('term_bin', 1), ('usd_goal_real_bin', 6), ('backers', 2.0), ('updated_date', '2019-11-27')])\n",
      "RealDictRow([('id', 18), ('collected_date', '2019-11-26'), ('name', 'Sometimes Mommy Says F***!'), ('blurb', 'This is like a picture book for adults that depicts situations that Moms and other women encounter that result in them saying F***!'), ('state', 'fail'), ('category', 'Film & Video'), ('funding_rate', 2), ('pledged', 151), ('goal', 6000), ('currency_type', 'USD'), ('usd_pledged_real', 151.0), ('usd_goal_real', 6000.0), ('launched', '2020-11-06'), ('deadline', '2020-01-05'), ('term', -306), ('term_bin', 1), ('usd_goal_real_bin', 5), ('backers', 3.0), ('updated_date', '2019-11-27')])\n",
      "RealDictRow([('id', 42), ('collected_date', '2019-11-27'), ('name', 'Miles of Portraits India: A Magazine and Film Series'), ('blurb', 'A portrait of humanity, Miles of Portraits documents the people we meet as we bicycle around the world.'), ('state', 'success'), ('category', 'Photography'), ('funding_rate', 106), ('pledged', 8511), ('goal', 8000), ('currency_type', 'USD'), ('usd_pledged_real', 8511.0), ('usd_goal_real', 8000.0), ('launched', '2019-10-22'), ('deadline', '2019-11-26'), ('term', 35), ('term_bin', 5), ('usd_goal_real_bin', 5), ('backers', 95.0), ('updated_date', '2019-11-26')])\n",
      "RealDictRow([('id', 43), ('collected_date', '2019-11-27'), ('name', 'Canoandes 79 - A Documentary Feature'), ('blurb', 'Or \"How to slip the Iron Curtain and claim the first descent of the worlds deepest canyon.\"'), ('state', 'success'), ('category', 'Film & Video'), ('funding_rate', 122), ('pledged', 30735), ('goal', 25000), ('currency_type', 'USD'), ('usd_pledged_real', 30735.0), ('usd_goal_real', 25000.0), ('launched', '2019-10-28'), ('deadline', '2019-11-26'), ('term', 29), ('term_bin', 4), ('usd_goal_real_bin', 6), ('backers', 277.0), ('updated_date', '2019-11-26')])\n",
      "RealDictRow([('id', 44), ('collected_date', '2019-11-27'), ('name', 'Drawdown'), ('blurb', 'A senior thesis feature film'), ('state', 'success'), ('category', 'Film & Video'), ('funding_rate', 130), ('pledged', 3255), ('goal', 2500), ('currency_type', 'USD'), ('usd_pledged_real', 3255.0), ('usd_goal_real', 2500.0), ('launched', '2019-10-29'), ('deadline', '2019-11-26'), ('term', 28), ('term_bin', 4), ('usd_goal_real_bin', 3), ('backers', 65.0), ('updated_date', '2019-11-26')])\n",
      "RealDictRow([('id', 45), ('collected_date', '2019-11-27'), ('name', 'MICA’s Hoffberger School of Painting comes to New York!'), ('blurb', 'Build on the efforts of 8 students bringing their MFA thesis exhibition to New York City to amplify our exposure as graduating painters'), ('state', 'success'), ('category', 'Art'), ('funding_rate', 193), ('pledged', 12666), ('goal', 6532), ('currency_type', 'USD'), ('usd_pledged_real', 12666.0), ('usd_goal_real', 6532.0), ('launched', '2019-10-30'), ('deadline', '2019-11-26'), ('term', 27), ('term_bin', 4), ('usd_goal_real_bin', 5), ('backers', 91.0), ('updated_date', '2019-11-26')])\n",
      "RealDictRow([('id', 46), ('collected_date', '2019-11-27'), ('name', 'Panda Planner Quarterly: Daily Planner + Wellness Magazine'), ('blurb', 'A planner engineered to make you happier and more productive combined with a research-backed magazine for improving your life!'), ('state', 'success'), ('category', 'Design'), ('funding_rate', 649), ('pledged', 97486), ('goal', 15000), ('currency_type', 'USD'), ('usd_pledged_real', 97486.0), ('usd_goal_real', 15000.0), ('launched', '2019-11-05'), ('deadline', '2019-11-26'), ('term', 21), ('term_bin', 3), ('usd_goal_real_bin', 6), ('backers', 1304.0), ('updated_date', '2019-11-27')])\n",
      "RealDictRow([('id', 47), ('collected_date', '2019-11-27'), ('name', 'Gratitude Journal'), ('blurb', 'Journal con ejercicios, lecturas, frases, rituales y consejos para incorporar la práctica de la gratitud en tu vida.'), ('state', 'success'), ('category', 'Publishing'), ('funding_rate', 111), ('pledged', 63566), ('goal', 57000), ('currency_type', 'MXN'), ('usd_pledged_real', 3268.58), ('usd_goal_real', 2930.95), ('launched', '2019-11-07'), ('deadline', '2019-11-27'), ('term', 20), ('term_bin', 3), ('usd_goal_real_bin', 3), ('backers', 61.0), ('updated_date', '2019-11-27')])\n",
      "RealDictRow([('id', 48), ('collected_date', '2019-11-27'), ('name', 'Paradigm Shift - A Werewolf Detective Story'), ('blurb', '20th Anniversary Collection - 2 Volume Graphic Novel Set'), ('state', 'success'), ('category', 'Comics'), ('funding_rate', 368), ('pledged', 18413), ('goal', 5000), ('currency_type', 'USD'), ('usd_pledged_real', 18413.0), ('usd_goal_real', 5000.0), ('launched', '2019-10-29'), ('deadline', '2019-11-27'), ('term', 29), ('term_bin', 4), ('usd_goal_real_bin', 4), ('backers', 356.0), ('updated_date', '2019-11-27')])\n",
      "RealDictRow([('id', 50), ('collected_date', '2019-11-27'), ('name', 'Lager Dog : a Lagers and Hot Dogs pop-up'), ('blurb', 'A latina owned pop-up that serves only lagers, hot dogs & one delicious flæskestegssandwich.'), ('state', 'success'), ('category', 'Food'), ('funding_rate', 175), ('pledged', 7001), ('goal', 4000), ('currency_type', 'USD'), ('usd_pledged_real', 7001.0), ('usd_goal_real', 4000.0), ('launched', '2019-10-28'), ('deadline', '2019-11-27'), ('term', 30), ('term_bin', 4), ('usd_goal_real_bin', 4), ('backers', 119.0), ('updated_date', '2019-11-27')])\n",
      "RealDictRow([('id', 49), ('collected_date', '2019-11-27'), ('name', 'Six Swords Vol. 1: A Kung Fu Western Graphic Novel'), ('blurb', 'Its Mad Max meets Seven Samurai with Quentin Tarantino and Cowboy Bebop influences, in a post-apocalyptic Western.'), ('state', 'success'), ('category', 'Comics'), ('funding_rate', 104), ('pledged', 5142), ('goal', 4900), ('currency_type', 'USD'), ('usd_pledged_real', 5142.0), ('usd_goal_real', 4900.0), ('launched', '2019-10-29'), ('deadline', '2019-11-27'), ('term', 29), ('term_bin', 4), ('usd_goal_real_bin', 4), ('backers', 195.0), ('updated_date', '2019-11-27')])\n",
      "RealDictRow([('id', 51), ('collected_date', '2019-11-27'), ('name', 'Wine Maps of the World - The Essential Collection'), ('blurb', 'An obsessively accurate set of the world’s wine regions, exquisitely presented in a bookshelf case.'), ('state', 'success'), ('category', 'Publishing'), ('funding_rate', 301), ('pledged', 60344), ('goal', 20000), ('currency_type', 'USD'), ('usd_pledged_real', 60344.0), ('usd_goal_real', 20000.0), ('launched', '2019-11-06'), ('deadline', '2019-11-27'), ('term', 21), ('term_bin', 3), ('usd_goal_real_bin', 6), ('backers', 421.0), ('updated_date', '2019-11-27')])\n",
      "RealDictRow([('id', 52), ('collected_date', '2019-11-27'), ('name', 'Death Trip - Student Short Film'), ('blurb', 'Alex catches a glimpse of what should stay unseen. His mind struggles to comprehend the incomprehensible. Lost, he drifts from reality.'), ('state', 'success'), ('category', 'Film & Video'), ('funding_rate', 198), ('pledged', 595), ('goal', 300), ('currency_type', 'EUR'), ('usd_pledged_real', 655.31), ('usd_goal_real', 330.41), ('launched', '2019-11-08'), ('deadline', '2019-11-27'), ('term', 19), ('term_bin', 3), ('usd_goal_real_bin', 1), ('backers', 35.0), ('updated_date', '2019-11-27')])\n",
      "RealDictRow([('id', 53), ('collected_date', '2019-11-27'), ('name', 'Printable Scenery: 1/285 and 6mm models for modern conflicts'), ('blurb', 'Modern Terrain & Scenery for Middle-East conflicts wargames, designed in 1:1 scale and optimized for 1/285 scale (suitable for 6mm)'), ('state', 'success'), ('category', 'Games'), ('funding_rate', 610), ('pledged', 1830), ('goal', 300), ('currency_type', 'EUR'), ('usd_pledged_real', 2015.5), ('usd_goal_real', 330.41), ('launched', '2019-10-28'), ('deadline', '2019-11-27'), ('term', 30), ('term_bin', 4), ('usd_goal_real_bin', 1), ('backers', 69.0), ('updated_date', '2019-11-27')])\n",
      "RealDictRow([('id', 54), ('collected_date', '2019-11-27'), ('name', 'The Really Useful Guitar Poster'), ('blurb', 'The Really Useful Guitar Poster contains all the chords, scales and music theory you need to pick up a Guitar and start playing.'), ('state', 'success'), ('category', 'Music'), ('funding_rate', 283), ('pledged', 4249), ('goal', 1500), ('currency_type', 'GBP'), ('usd_pledged_real', 5479.51), ('usd_goal_real', 1934.4), ('launched', '2019-10-28'), ('deadline', '2019-11-27'), ('term', 30), ('term_bin', 4), ('usd_goal_real_bin', 3), ('backers', 225.0), ('updated_date', '2019-11-27')])\n",
      "RealDictRow([('id', 55), ('collected_date', '2019-11-27'), ('name', 'SleepWell - the bedside drinking glass.'), ('blurb', 'A glass that’s nicer to touch, harder to accidentally knock over and quieter to put down.'), ('state', 'success'), ('category', 'Design'), ('funding_rate', 175), ('pledged', 7017), ('goal', 4000), ('currency_type', 'GBP'), ('usd_pledged_real', 9049.13), ('usd_goal_real', 5158.4), ('launched', '2019-10-28'), ('deadline', '2019-11-27'), ('term', 30), ('term_bin', 4), ('usd_goal_real_bin', 5), ('backers', 124.0), ('updated_date', '2019-11-27')])\n",
      "RealDictRow([('id', 76), ('collected_date', '2019-11-27'), ('name', 'The Little Chef That Cooked'), ('blurb', 'A story of love and nurture. An imagination come to life. Family fun recipes for a quick giggle and smile.'), ('state', 'fail'), ('category', 'Publishing'), ('funding_rate', 0), ('pledged', 1), ('goal', 4500), ('currency_type', 'USD'), ('usd_pledged_real', 1.0), ('usd_goal_real', 4500.0), ('launched', '2020-11-12'), ('deadline', '2020-01-11'), ('term', -306), ('term_bin', 1), ('usd_goal_real_bin', 4), ('backers', 1.0), ('updated_date', '2019-11-27')])\n",
      "RealDictRow([('id', 77), ('collected_date', '2019-11-27'), ('name', 'ShelTech llc 3D printing'), ('blurb', 'Custom 3D printed items'), ('state', 'fail'), ('category', 'Technology'), ('funding_rate', 0), ('pledged', 1), ('goal', 10000), ('currency_type', 'USD'), ('usd_pledged_real', 1.0), ('usd_goal_real', 10000.0), ('launched', '2020-11-11'), ('deadline', '2020-01-10'), ('term', -306), ('term_bin', 1), ('usd_goal_real_bin', 5), ('backers', 1.0), ('updated_date', '2019-11-27')])\n",
      "RealDictRow([('id', 78), ('collected_date', '2019-11-27'), ('name', 'Expand Grahamland into interactive Amusement Park'), ('blurb', 'Grahamland Amusement Is the expanded vision of Grahamland Fiberglass in North Carolina that provides whimsical fiberglass art statues.'), ('state', 'fail'), ('category', 'Art'), ('funding_rate', 0), ('pledged', 111), ('goal', 250000), ('currency_type', 'USD'), ('usd_pledged_real', 111.0), ('usd_goal_real', 250000.0), ('launched', '2020-11-11'), ('deadline', '2020-01-10'), ('term', -306), ('term_bin', 1), ('usd_goal_real_bin', 8), ('backers', 4.0), ('updated_date', '2019-11-27')])\n",
      "RealDictRow([('id', 79), ('collected_date', '2019-11-27'), ('name', 'Lets Make CUBE FARM - Because we can’t all be models'), ('blurb', 'Feature Film | Romantic Comedy | Office Satire'), ('state', 'fail'), ('category', 'Film & Video'), ('funding_rate', 0), ('pledged', 38), ('goal', 58447), ('currency_type', 'USD'), ('usd_pledged_real', 38.0), ('usd_goal_real', 58447.0), ('launched', '2020-11-11'), ('deadline', '2020-01-10'), ('term', -306), ('term_bin', 1), ('usd_goal_real_bin', 7), ('backers', 2.0), ('updated_date', '2019-11-27')])\n",
      "RealDictRow([('id', 11), ('collected_date', '2019-11-26'), ('name', 'The Roach Reaper: Natural Bug Spray'), ('blurb', 'Business start-up: Insecticide/pesticide-free hotshot spray that kills bugs fast. Safe for use around kids, animals, and plants.'), ('state', 'fail'), ('category', 'Design'), ('funding_rate', 0), ('pledged', 1), ('goal', 30000), ('currency_type', 'USD'), ('usd_pledged_real', 1.0), ('usd_goal_real', 30000.0), ('launched', '2020-11-09'), ('deadline', '2020-01-08'), ('term', -306), ('term_bin', 1), ('usd_goal_real_bin', 6), ('backers', 1.0), ('updated_date', '2019-11-27')])\n",
      "RealDictRow([('id', 80), ('collected_date', '2019-11-27'), ('name', 'BANU Bamboo Water'), ('blurb', 'Vibrant, Renewable, Wild… Uniquely Delicious Hydration'), ('state', 'fail'), ('category', 'Food'), ('funding_rate', 0), ('pledged', 77), ('goal', 50000), ('currency_type', 'USD'), ('usd_pledged_real', 77.0), ('usd_goal_real', 50000.0), ('launched', '2020-11-07'), ('deadline', '2020-01-06'), ('term', -306), ('term_bin', 1), ('usd_goal_real_bin', 6), ('backers', 3.0), ('updated_date', '2019-11-27')])\n"
     ]
    }
   ],
   "source": [
    "\n",
    "cur = con.cursor(cursor_factory=RealDictCursor)\n",
    "sql = \"select * from ml.testcrawl2\"\n",
    "cur.execute(sql)\n",
    "res = cur.fetchall()\n",
    "\n",
    "for i in res:\n",
    "    print(i)"
   ]
  },
  {
   "cell_type": "code",
   "execution_count": 48,
   "metadata": {},
   "outputs": [],
   "source": [
    "# get category from DB\n",
    "category = []\n",
    "\n",
    "cur = con.cursor(cursor_factory=RealDictCursor)\n",
    "sql = \"select category from ml.testcrawl2\"\n",
    "cur.execute(sql)\n",
    "res = cur.fetchall()\n",
    "\n",
    "for i in res:\n",
    "    category.append(i['category'])\n",
    "    \n",
    "data['category'] = category"
   ]
  },
  {
   "cell_type": "code",
   "execution_count": 52,
   "metadata": {},
   "outputs": [],
   "source": [
    "# get currency_type from DB\n",
    "currency_type = []\n",
    "\n",
    "cur = con.cursor(cursor_factory=RealDictCursor)\n",
    "sql = \"select currency_type from ml.testcrawl2\"\n",
    "cur.execute(sql)\n",
    "res = cur.fetchall()\n",
    "\n",
    "for i in res:\n",
    "    currency_type.append(i['currency_type'])\n",
    "    \n",
    "data['currency'] = currency_type"
   ]
  },
  {
   "cell_type": "code",
   "execution_count": null,
   "metadata": {},
   "outputs": [],
   "source": []
  }
 ],
 "metadata": {
  "kernelspec": {
   "display_name": "Python 3",
   "language": "python",
   "name": "python3"
  },
  "language_info": {
   "codemirror_mode": {
    "name": "ipython",
    "version": 3
   },
   "file_extension": ".py",
   "mimetype": "text/x-python",
   "name": "python",
   "nbconvert_exporter": "python",
   "pygments_lexer": "ipython3",
   "version": "3.7.3"
  }
 },
 "nbformat": 4,
 "nbformat_minor": 2
}
