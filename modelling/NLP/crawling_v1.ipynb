{
 "cells": [
  {
   "cell_type": "code",
   "execution_count": null,
   "metadata": {
    "collapsed": true
   },
   "outputs": [],
   "source": [
    "import os\n",
    "import re\n",
    "import pandas as pd\n",
    "import numpy as np\n",
    "from selenium import webdriver as wd\n",
    "\n",
    "pd.set_option(\"display.max_columns\", 500)\n",
    "pd.set_option(\"display.width\", 1000)\n",
    "\n",
    "path = os.getcwd()\n",
    "driver = wd.Chrome(path + '/chromedriver')\n",
    "\n",
    "# DataFrame for result\n",
    "blurb_df = pd.DataFrame(columns = ['name', 'blurb', 'state', 'category', 'funding_rate', 'pledged', 'goal', 'launched', 'deadline'])\n",
    "\n",
    "def webcrawl(start, end):\n",
    "    global blurb_df\n",
    "    for page in range(start,end+1):\n",
    "        print(\"==================================\")\n",
    "        print(\"Collecting page\",page,\"......\")\n",
    "        print(\"==================================\")\n",
    "\n",
    "        # load page\n",
    "        driver.get('https://www.kicktraq.com/dayones/?page={}'.format(page))\n",
    "\n",
    "        # get list of all project list and info\n",
    "        prj_list = driver.find_elements_by_xpath(\"//div[@class='project-infobox']\")\n",
    "        prj_length = len(prj_list)\n",
    "\n",
    "        for i in range(prj_length):\n",
    "            x = prj_list[i]\n",
    "\n",
    "            ## TITLE\n",
    "            name = x.find_element_by_xpath(\"h2\").text\n",
    "\n",
    "            ## BLURB\n",
    "            blurb = x.find_element_by_xpath(\"div[not(@class)]\").text\n",
    "\n",
    "            ## CATEGORY\n",
    "            cat =  x.find_element_by_xpath(\"div[@class='project-cat']\")\n",
    "            cat_lst = cat.find_elements_by_tag_name(\"a\")\n",
    "            category = cat_lst[0].text\n",
    "\n",
    "            ## PROJECT INFORMATION\n",
    "            info = x.find_element_by_xpath(\"div[@class='project-infobits']/div[@class='project-details']\")\n",
    "            prj_info = info.text\n",
    "            # finding rate\n",
    "            rate_info = info.find_element_by_tag_name(\"span\").text\n",
    "            percent = int(re.findall('\\d+', rate_info)[0])\n",
    "\n",
    "            if percent >= 100:\n",
    "                pledged = prj_info.split('\\n')[1].split(': ')[1].split(' of ')[0]\n",
    "                goal = prj_info.split('\\n')[1].split(': ')[1].split(' of ')[1].split(' (')[0]\n",
    "                year = prj_info.split('\\n')[3].split('(')[1][:-1]\n",
    "                launched = prj_info.split('\\n')[3].split(\": \")[1].split(' -> ')[0]\n",
    "                deadline = prj_info.split('\\n')[3].split(\": \")[1].split(' -> ')[1].split(' (')[0]\n",
    "                row = [name, blurb, 'success', category, percent, pledged, goal, year + ' ' + launched, year + ' ' + deadline]\n",
    "                blurb_df = blurb_df.append(pd.Series(row, index=['name', 'blurb', 'state', 'category', 'funding_rate', 'pledged', 'goal', 'launched', 'deadline']), ignore_index=True)\n"
   ]
  }
 ],
 "metadata": {
  "kernelspec": {
   "display_name": "Python 3",
   "language": "python",
   "name": "python3"
  },
  "language_info": {
   "codemirror_mode": {
    "name": "ipython",
    "version": 2
   },
   "file_extension": ".py",
   "mimetype": "text/x-python",
   "name": "python",
   "nbconvert_exporter": "python",
   "pygments_lexer": "ipython2",
   "version": "2.7.6"
  },
  "pycharm": {
   "stem_cell": {
    "cell_type": "raw",
    "source": [],
    "metadata": {
     "collapsed": false
    }
   }
  }
 },
 "nbformat": 4,
 "nbformat_minor": 0
}