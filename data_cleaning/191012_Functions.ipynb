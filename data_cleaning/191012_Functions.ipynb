{
 "cells": [
  {
   "cell_type": "code",
   "execution_count": 1,
   "metadata": {},
   "outputs": [],
   "source": [
    "import pandas as pd\n",
    "import numpy as np\n",
    "pd.set_option('max_columns',999)\n",
    "pd.set_option('max_rows',200)\n",
    "\n",
    "import matplotlib.pyplot as plt\n",
    "import matplotlib as mpl\n",
    "import matplotlib.font_manager as fm\n",
    "import seaborn as sns\n",
    "sns.set() \n",
    "%matplotlib inline \n",
    "%config InlineBackend.figure_format = 'retina' \n",
    "sns.set_style(style='white')\n",
    "sns.set_context(context ='paper')\n",
    "\n",
    "import datetime\n",
    "import os\n",
    "from functools import reduce"
   ]
  },
  {
   "cell_type": "code",
   "execution_count": 2,
   "metadata": {},
   "outputs": [],
   "source": [
    "# 한글 폰트 사용\n",
    "\n",
    "plt.rcParams[\"font.family\"] = 'NanumGothic'"
   ]
  },
  {
   "cell_type": "code",
   "execution_count": 14,
   "metadata": {},
   "outputs": [],
   "source": [
    "projects_fin = pd.read_csv('projects_fin.csv')"
   ]
  },
  {
   "cell_type": "code",
   "execution_count": 16,
   "metadata": {},
   "outputs": [
    {
     "name": "stdout",
     "output_type": "stream",
     "text": [
      "(372572, 23)\n"
     ]
    },
    {
     "data": {
      "text/html": [
       "<div>\n",
       "<style scoped>\n",
       "    .dataframe tbody tr th:only-of-type {\n",
       "        vertical-align: middle;\n",
       "    }\n",
       "\n",
       "    .dataframe tbody tr th {\n",
       "        vertical-align: top;\n",
       "    }\n",
       "\n",
       "    .dataframe thead th {\n",
       "        text-align: right;\n",
       "    }\n",
       "</style>\n",
       "<table border=\"1\" class=\"dataframe\">\n",
       "  <thead>\n",
       "    <tr style=\"text-align: right;\">\n",
       "      <th></th>\n",
       "      <th>Unnamed: 0</th>\n",
       "      <th>ID</th>\n",
       "      <th>name</th>\n",
       "      <th>category</th>\n",
       "      <th>main_category</th>\n",
       "      <th>currency</th>\n",
       "      <th>deadline</th>\n",
       "      <th>goal</th>\n",
       "      <th>launched</th>\n",
       "      <th>pledged</th>\n",
       "      <th>state</th>\n",
       "      <th>backers</th>\n",
       "      <th>country</th>\n",
       "      <th>usd pledged</th>\n",
       "      <th>usd_pledged_real</th>\n",
       "      <th>usd_goal_real</th>\n",
       "      <th>state_new</th>\n",
       "      <th>deadline_dt</th>\n",
       "      <th>launched_dt</th>\n",
       "      <th>term</th>\n",
       "      <th>term_str</th>\n",
       "      <th>term_bin</th>\n",
       "      <th>usd_goal_real_bin</th>\n",
       "    </tr>\n",
       "  </thead>\n",
       "  <tbody>\n",
       "    <tr>\n",
       "      <th>0</th>\n",
       "      <td>0</td>\n",
       "      <td>1000002330</td>\n",
       "      <td>The Songs of Adelaide &amp; Abullah</td>\n",
       "      <td>Poetry</td>\n",
       "      <td>Publishing</td>\n",
       "      <td>GBP</td>\n",
       "      <td>2015-10-09</td>\n",
       "      <td>1000.0</td>\n",
       "      <td>2015-08-11 12:12:28</td>\n",
       "      <td>0.0</td>\n",
       "      <td>failed</td>\n",
       "      <td>0</td>\n",
       "      <td>GB</td>\n",
       "      <td>0.0</td>\n",
       "      <td>0.0</td>\n",
       "      <td>1533.95</td>\n",
       "      <td>failed</td>\n",
       "      <td>2015-10-09</td>\n",
       "      <td>2015-08-11</td>\n",
       "      <td>59</td>\n",
       "      <td>59</td>\n",
       "      <td>6</td>\n",
       "      <td>3</td>\n",
       "    </tr>\n",
       "    <tr>\n",
       "      <th>1</th>\n",
       "      <td>1</td>\n",
       "      <td>1000003930</td>\n",
       "      <td>Greeting From Earth: ZGAC Arts Capsule For ET</td>\n",
       "      <td>Narrative Film</td>\n",
       "      <td>Film &amp; Video</td>\n",
       "      <td>USD</td>\n",
       "      <td>2017-11-01</td>\n",
       "      <td>30000.0</td>\n",
       "      <td>2017-09-02 04:43:57</td>\n",
       "      <td>2421.0</td>\n",
       "      <td>failed</td>\n",
       "      <td>15</td>\n",
       "      <td>US</td>\n",
       "      <td>100.0</td>\n",
       "      <td>2421.0</td>\n",
       "      <td>30000.00</td>\n",
       "      <td>failed</td>\n",
       "      <td>2017-11-01</td>\n",
       "      <td>2017-09-02</td>\n",
       "      <td>60</td>\n",
       "      <td>60</td>\n",
       "      <td>6</td>\n",
       "      <td>6</td>\n",
       "    </tr>\n",
       "    <tr>\n",
       "      <th>2</th>\n",
       "      <td>2</td>\n",
       "      <td>1000004038</td>\n",
       "      <td>Where is Hank?</td>\n",
       "      <td>Narrative Film</td>\n",
       "      <td>Film &amp; Video</td>\n",
       "      <td>USD</td>\n",
       "      <td>2013-02-26</td>\n",
       "      <td>45000.0</td>\n",
       "      <td>2013-01-12 00:20:50</td>\n",
       "      <td>220.0</td>\n",
       "      <td>failed</td>\n",
       "      <td>3</td>\n",
       "      <td>US</td>\n",
       "      <td>220.0</td>\n",
       "      <td>220.0</td>\n",
       "      <td>45000.00</td>\n",
       "      <td>failed</td>\n",
       "      <td>2013-02-26</td>\n",
       "      <td>2013-01-12</td>\n",
       "      <td>45</td>\n",
       "      <td>45</td>\n",
       "      <td>5</td>\n",
       "      <td>6</td>\n",
       "    </tr>\n",
       "    <tr>\n",
       "      <th>3</th>\n",
       "      <td>3</td>\n",
       "      <td>1000007540</td>\n",
       "      <td>ToshiCapital Rekordz Needs Help to Complete Album</td>\n",
       "      <td>Music</td>\n",
       "      <td>Music</td>\n",
       "      <td>USD</td>\n",
       "      <td>2012-04-16</td>\n",
       "      <td>5000.0</td>\n",
       "      <td>2012-03-17 03:24:11</td>\n",
       "      <td>1.0</td>\n",
       "      <td>failed</td>\n",
       "      <td>1</td>\n",
       "      <td>US</td>\n",
       "      <td>1.0</td>\n",
       "      <td>1.0</td>\n",
       "      <td>5000.00</td>\n",
       "      <td>failed</td>\n",
       "      <td>2012-04-16</td>\n",
       "      <td>2012-03-17</td>\n",
       "      <td>30</td>\n",
       "      <td>30</td>\n",
       "      <td>4</td>\n",
       "      <td>4</td>\n",
       "    </tr>\n",
       "    <tr>\n",
       "      <th>4</th>\n",
       "      <td>4</td>\n",
       "      <td>1000011046</td>\n",
       "      <td>Community Film Project: The Art of Neighborhoo...</td>\n",
       "      <td>Film &amp; Video</td>\n",
       "      <td>Film &amp; Video</td>\n",
       "      <td>USD</td>\n",
       "      <td>2015-08-29</td>\n",
       "      <td>19500.0</td>\n",
       "      <td>2015-07-04 08:35:03</td>\n",
       "      <td>1283.0</td>\n",
       "      <td>canceled</td>\n",
       "      <td>14</td>\n",
       "      <td>US</td>\n",
       "      <td>1283.0</td>\n",
       "      <td>1283.0</td>\n",
       "      <td>19500.00</td>\n",
       "      <td>failed</td>\n",
       "      <td>2015-08-29</td>\n",
       "      <td>2015-07-04</td>\n",
       "      <td>56</td>\n",
       "      <td>56</td>\n",
       "      <td>6</td>\n",
       "      <td>6</td>\n",
       "    </tr>\n",
       "  </tbody>\n",
       "</table>\n",
       "</div>"
      ],
      "text/plain": [
       "   Unnamed: 0          ID                                               name  \\\n",
       "0           0  1000002330                    The Songs of Adelaide & Abullah   \n",
       "1           1  1000003930      Greeting From Earth: ZGAC Arts Capsule For ET   \n",
       "2           2  1000004038                                     Where is Hank?   \n",
       "3           3  1000007540  ToshiCapital Rekordz Needs Help to Complete Album   \n",
       "4           4  1000011046  Community Film Project: The Art of Neighborhoo...   \n",
       "\n",
       "         category main_category currency    deadline     goal  \\\n",
       "0          Poetry    Publishing      GBP  2015-10-09   1000.0   \n",
       "1  Narrative Film  Film & Video      USD  2017-11-01  30000.0   \n",
       "2  Narrative Film  Film & Video      USD  2013-02-26  45000.0   \n",
       "3           Music         Music      USD  2012-04-16   5000.0   \n",
       "4    Film & Video  Film & Video      USD  2015-08-29  19500.0   \n",
       "\n",
       "              launched  pledged     state  backers country  usd pledged  \\\n",
       "0  2015-08-11 12:12:28      0.0    failed        0      GB          0.0   \n",
       "1  2017-09-02 04:43:57   2421.0    failed       15      US        100.0   \n",
       "2  2013-01-12 00:20:50    220.0    failed        3      US        220.0   \n",
       "3  2012-03-17 03:24:11      1.0    failed        1      US          1.0   \n",
       "4  2015-07-04 08:35:03   1283.0  canceled       14      US       1283.0   \n",
       "\n",
       "   usd_pledged_real  usd_goal_real state_new deadline_dt launched_dt  term  \\\n",
       "0               0.0        1533.95    failed  2015-10-09  2015-08-11    59   \n",
       "1            2421.0       30000.00    failed  2017-11-01  2017-09-02    60   \n",
       "2             220.0       45000.00    failed  2013-02-26  2013-01-12    45   \n",
       "3               1.0        5000.00    failed  2012-04-16  2012-03-17    30   \n",
       "4            1283.0       19500.00    failed  2015-08-29  2015-07-04    56   \n",
       "\n",
       "   term_str  term_bin  usd_goal_real_bin  \n",
       "0        59         6                  3  \n",
       "1        60         6                  6  \n",
       "2        45         5                  6  \n",
       "3        30         4                  4  \n",
       "4        56         6                  6  "
      ]
     },
     "execution_count": 16,
     "metadata": {},
     "output_type": "execute_result"
    }
   ],
   "source": [
    "print(projects_fin.shape)\n",
    "projects_fin.head()"
   ]
  },
  {
   "cell_type": "markdown",
   "metadata": {},
   "source": [
    "### 카테고리는 main_category 컬럼 활용\n",
    "\n",
    "\n",
    "### >> 특정 카테고리의 특정 기간의 금액별 성공률"
   ]
  },
  {
   "cell_type": "code",
   "execution_count": 18,
   "metadata": {},
   "outputs": [
    {
     "data": {
      "text/plain": [
       "array(['Publishing', 'Film & Video', 'Music', 'Food', 'Design', 'Crafts',\n",
       "       'Games', 'Comics', 'Fashion', 'Theater', 'Art', 'Photography',\n",
       "       'Technology', 'Dance', 'Journalism'], dtype=object)"
      ]
     },
     "execution_count": 18,
     "metadata": {},
     "output_type": "execute_result"
    }
   ],
   "source": [
    "projects_fin['main_category'].unique()"
   ]
  },
  {
   "cell_type": "code",
   "execution_count": 37,
   "metadata": {},
   "outputs": [],
   "source": [
    "cate_df = projects_fin[lambda x: (x['main_category'] == 'Film & Video') & (x['term_bin'] == 1)]"
   ]
  },
  {
   "cell_type": "code",
   "execution_count": 38,
   "metadata": {},
   "outputs": [
    {
     "data": {
      "text/plain": [
       "array([3, 2, 5, 1, 6, 4, 8, 7], dtype=int64)"
      ]
     },
     "execution_count": 38,
     "metadata": {},
     "output_type": "execute_result"
    }
   ],
   "source": [
    "cate_df['usd_goal_real_bin'].unique()"
   ]
  },
  {
   "cell_type": "code",
   "execution_count": 42,
   "metadata": {},
   "outputs": [
    {
     "data": {
      "text/plain": [
       "array(['failed'], dtype=object)"
      ]
     },
     "execution_count": 42,
     "metadata": {},
     "output_type": "execute_result"
    }
   ],
   "source": [
    "cate_df[lambda x: x['usd_goal_real_bin'] == 7]['state_new'].unique()"
   ]
  },
  {
   "cell_type": "code",
   "execution_count": 55,
   "metadata": {},
   "outputs": [],
   "source": [
    "def cate_success_by_term(cate, term_bin):\n",
    "    cate_df = projects_fin[lambda x: (x['main_category'] == cate) & (x['term_bin'] == term_bin)]\n",
    "    \n",
    "    percent_list = []\n",
    "\n",
    "    for i in range(8):\n",
    "        percent = len(cate_df[lambda x: (x['usd_goal_real_bin'] == i+1) & (x['state_new'] == 'success')]) / len(cate_df[lambda x: x['usd_goal_real_bin'] == i+1])\n",
    "        percent_list.append(percent)\n",
    "        \n",
    "    tmp = pd.DataFrame({'bars' : ['500달러이하', '1000달러이하', '3000달러이하', '5000달러이하', '10000달러이하', '50000달러이하', '100000이하', '100000초과'], \n",
    "                    'percent' : percent_list})\n",
    "    \n",
    "    plt.figure(figsize=(10,6))\n",
    "    plt.title(cate + ' 카테고리의 ' + str(term_bin) + ' 기간의 금액별 성공률', fontsize = 20)\n",
    "    sns.barplot(x = \"bars\", y = \"percent\", data = tmp, color = '#78BD40')"
   ]
  },
  {
   "cell_type": "code",
   "execution_count": 63,
   "metadata": {},
   "outputs": [
    {
     "data": {
      "image/png": "[encoded data removed]",
      "text/plain": [
       "<Figure size 720x432 with 1 Axes>"
      ]
     },
     "metadata": {
      "image/png": {
       "height": 391,
       "width": 607
      },
      "needs_background": "light"
     },
     "output_type": "display_data"
    }
   ],
   "source": [
    "cate_success_by_term('Film & Video', 3)"
   ]
  },
  {
   "cell_type": "markdown",
   "metadata": {},
   "source": [
    "### >> 특정 카테고리의 특정 기간의 목표 금액 분포 및 성공 / 실패 비율"
   ]
  },
  {
   "cell_type": "code",
   "execution_count": 60,
   "metadata": {},
   "outputs": [],
   "source": [
    "cate_df = projects_fin[lambda x: (x['main_category'] == 'Film & Video') & (x['term_bin'] == 1)]\n",
    "fin = cate_df[['state_new', 'usd_goal_real_bin', 'ID']].groupby(['usd_goal_real_bin', 'state_new']).count().unstack().fillna(0)"
   ]
  },
  {
   "cell_type": "code",
   "execution_count": 61,
   "metadata": {},
   "outputs": [
    {
     "data": {
      "text/html": [
       "<div>\n",
       "<style scoped>\n",
       "    .dataframe tbody tr th:only-of-type {\n",
       "        vertical-align: middle;\n",
       "    }\n",
       "\n",
       "    .dataframe tbody tr th {\n",
       "        vertical-align: top;\n",
       "    }\n",
       "\n",
       "    .dataframe thead tr th {\n",
       "        text-align: left;\n",
       "    }\n",
       "\n",
       "    .dataframe thead tr:last-of-type th {\n",
       "        text-align: right;\n",
       "    }\n",
       "</style>\n",
       "<table border=\"1\" class=\"dataframe\">\n",
       "  <thead>\n",
       "    <tr>\n",
       "      <th></th>\n",
       "      <th colspan=\"2\" halign=\"left\">ID</th>\n",
       "    </tr>\n",
       "    <tr>\n",
       "      <th>state_new</th>\n",
       "      <th>failed</th>\n",
       "      <th>success</th>\n",
       "    </tr>\n",
       "    <tr>\n",
       "      <th>usd_goal_real_bin</th>\n",
       "      <th></th>\n",
       "      <th></th>\n",
       "    </tr>\n",
       "  </thead>\n",
       "  <tbody>\n",
       "    <tr>\n",
       "      <th>1</th>\n",
       "      <td>118.0</td>\n",
       "      <td>156.0</td>\n",
       "    </tr>\n",
       "    <tr>\n",
       "      <th>2</th>\n",
       "      <td>105.0</td>\n",
       "      <td>121.0</td>\n",
       "    </tr>\n",
       "    <tr>\n",
       "      <th>3</th>\n",
       "      <td>136.0</td>\n",
       "      <td>113.0</td>\n",
       "    </tr>\n",
       "    <tr>\n",
       "      <th>4</th>\n",
       "      <td>70.0</td>\n",
       "      <td>45.0</td>\n",
       "    </tr>\n",
       "    <tr>\n",
       "      <th>5</th>\n",
       "      <td>64.0</td>\n",
       "      <td>37.0</td>\n",
       "    </tr>\n",
       "    <tr>\n",
       "      <th>6</th>\n",
       "      <td>64.0</td>\n",
       "      <td>14.0</td>\n",
       "    </tr>\n",
       "    <tr>\n",
       "      <th>7</th>\n",
       "      <td>9.0</td>\n",
       "      <td>0.0</td>\n",
       "    </tr>\n",
       "    <tr>\n",
       "      <th>8</th>\n",
       "      <td>14.0</td>\n",
       "      <td>0.0</td>\n",
       "    </tr>\n",
       "  </tbody>\n",
       "</table>\n",
       "</div>"
      ],
      "text/plain": [
       "                      ID        \n",
       "state_new         failed success\n",
       "usd_goal_real_bin               \n",
       "1                  118.0   156.0\n",
       "2                  105.0   121.0\n",
       "3                  136.0   113.0\n",
       "4                   70.0    45.0\n",
       "5                   64.0    37.0\n",
       "6                   64.0    14.0\n",
       "7                    9.0     0.0\n",
       "8                   14.0     0.0"
      ]
     },
     "execution_count": 61,
     "metadata": {},
     "output_type": "execute_result"
    }
   ],
   "source": [
    "fin"
   ]
  },
  {
   "cell_type": "code",
   "execution_count": 59,
   "metadata": {},
   "outputs": [
    {
     "data": {
      "text/html": [
       "<div>\n",
       "<style scoped>\n",
       "    .dataframe tbody tr th:only-of-type {\n",
       "        vertical-align: middle;\n",
       "    }\n",
       "\n",
       "    .dataframe tbody tr th {\n",
       "        vertical-align: top;\n",
       "    }\n",
       "\n",
       "    .dataframe thead tr th {\n",
       "        text-align: left;\n",
       "    }\n",
       "</style>\n",
       "<table border=\"1\" class=\"dataframe\">\n",
       "  <thead>\n",
       "    <tr>\n",
       "      <th></th>\n",
       "      <th>usd_goal_real_bin</th>\n",
       "      <th colspan=\"2\" halign=\"left\">ID</th>\n",
       "    </tr>\n",
       "    <tr>\n",
       "      <th>state_new</th>\n",
       "      <th></th>\n",
       "      <th>failed</th>\n",
       "      <th>success</th>\n",
       "    </tr>\n",
       "  </thead>\n",
       "  <tbody>\n",
       "    <tr>\n",
       "      <th>0</th>\n",
       "      <td>1</td>\n",
       "      <td>118.0</td>\n",
       "      <td>156.0</td>\n",
       "    </tr>\n",
       "    <tr>\n",
       "      <th>1</th>\n",
       "      <td>2</td>\n",
       "      <td>105.0</td>\n",
       "      <td>121.0</td>\n",
       "    </tr>\n",
       "    <tr>\n",
       "      <th>2</th>\n",
       "      <td>3</td>\n",
       "      <td>136.0</td>\n",
       "      <td>113.0</td>\n",
       "    </tr>\n",
       "    <tr>\n",
       "      <th>3</th>\n",
       "      <td>4</td>\n",
       "      <td>70.0</td>\n",
       "      <td>45.0</td>\n",
       "    </tr>\n",
       "    <tr>\n",
       "      <th>4</th>\n",
       "      <td>5</td>\n",
       "      <td>64.0</td>\n",
       "      <td>37.0</td>\n",
       "    </tr>\n",
       "    <tr>\n",
       "      <th>5</th>\n",
       "      <td>6</td>\n",
       "      <td>64.0</td>\n",
       "      <td>14.0</td>\n",
       "    </tr>\n",
       "    <tr>\n",
       "      <th>6</th>\n",
       "      <td>7</td>\n",
       "      <td>9.0</td>\n",
       "      <td>0.0</td>\n",
       "    </tr>\n",
       "    <tr>\n",
       "      <th>7</th>\n",
       "      <td>8</td>\n",
       "      <td>14.0</td>\n",
       "      <td>0.0</td>\n",
       "    </tr>\n",
       "  </tbody>\n",
       "</table>\n",
       "</div>"
      ],
      "text/plain": [
       "          usd_goal_real_bin     ID        \n",
       "state_new                   failed success\n",
       "0                         1  118.0   156.0\n",
       "1                         2  105.0   121.0\n",
       "2                         3  136.0   113.0\n",
       "3                         4   70.0    45.0\n",
       "4                         5   64.0    37.0\n",
       "5                         6   64.0    14.0\n",
       "6                         7    9.0     0.0\n",
       "7                         8   14.0     0.0"
      ]
     },
     "execution_count": 59,
     "metadata": {},
     "output_type": "execute_result"
    }
   ],
   "source": [
    "fin.reset_index()"
   ]
  },
  {
   "cell_type": "code",
   "execution_count": null,
   "metadata": {},
   "outputs": [],
   "source": [
    "fin.usd"
   ]
  },
  {
   "cell_type": "code",
   "execution_count": 49,
   "metadata": {},
   "outputs": [],
   "source": [
    "def cate_goal_dist(cate, term_bin):\n",
    "    cate_df = projects_fin[lambda x: (x['main_category'] == cate) & (x['term_bin'] == term_bin)]\n",
    "    fin = cate_df[['state_new', 'usd_goal_real_bin', 'ID']].groupby(['usd_goal_real_bin', 'state_new']).count().unstack().fillna(0)\n",
    "    \n",
    "    ax = fin.plot(kind='bar',stacked=True,figsize=(10, 6),title = cate + ' 카테고리의 ' + str(term_bin) + ' 기간의 목표 금액 분포',\n",
    "            colormap = 'bwr_r', rot = 0)\n",
    "    ax.legend(['failed', 'success'])"
   ]
  },
  {
   "cell_type": "code",
   "execution_count": 50,
   "metadata": {
    "scrolled": false
   },
   "outputs": [
    {
     "data": {
      "image/png": "[encoded data removed]",
      "text/plain": [
       "<Figure size 720x432 with 1 Axes>"
      ]
     },
     "metadata": {
      "image/png": {
       "height": 383,
       "width": 596
      },
      "needs_background": "light"
     },
     "output_type": "display_data"
    }
   ],
   "source": [
    "cate_goal_dist('Film & Video', 1)"
   ]
  },
  {
   "cell_type": "markdown",
   "metadata": {},
   "source": [
    "### >> 특정 카테고리의 특정 기간의 1인당 투자 금액 분포"
   ]
  },
  {
   "cell_type": "markdown",
   "metadata": {},
   "source": [
    "구간 구하기 위한 그래프..."
   ]
  },
  {
   "cell_type": "raw",
   "metadata": {},
   "source": [
    "tmp3 = projects_fin[lambda x: x['backers'] != 0]\n",
    "tmp3['pledge_per_person'] = tmp3['usd_goal_real'] / tmp3['backers']"
   ]
  },
  {
   "cell_type": "raw",
   "metadata": {},
   "source": [
    "tmp4 = tmp3[lambda x: (x['pledge_per_person'] >= 10) & (x['pledge_per_person'] < 100)]\n",
    "plt.figure(figsize=(20,8))\n",
    "sns.distplot(tmp4['pledge_per_person'])"
   ]
  },
  {
   "cell_type": "raw",
   "metadata": {},
   "source": [
    "tmp4 = tmp3[lambda x: (x['pledge_per_person'] >= 10) & (x['pledge_per_person'] < 500)]\n",
    "plt.figure(figsize=(20,8))\n",
    "sns.distplot(tmp4['pledge_per_person'])"
   ]
  },
  {
   "cell_type": "raw",
   "metadata": {},
   "source": [
    "tmp4 = tmp3[lambda x: (x['pledge_per_person'] >= 500) & (x['pledge_per_person'] < 1000)]\n",
    "plt.figure(figsize=(20,8))\n",
    "sns.distplot(tmp4['pledge_per_person'])"
   ]
  },
  {
   "cell_type": "raw",
   "metadata": {},
   "source": [
    "tmp4 = tmp3[lambda x: (x['pledge_per_person'] >= 1000) & (x['pledge_per_person'] < 5000)]\n",
    "plt.figure(figsize=(20,8))\n",
    "sns.distplot(tmp4['pledge_per_person'])"
   ]
  },
  {
   "cell_type": "raw",
   "metadata": {},
   "source": [
    "tmp4 = tmp3[lambda x: (x['pledge_per_person'] >= 5000) & (x['pledge_per_person'] < 10000)]\n",
    "plt.figure(figsize=(20,8))\n",
    "sns.distplot(tmp4['pledge_per_person'])"
   ]
  },
  {
   "cell_type": "code",
   "execution_count": null,
   "metadata": {},
   "outputs": [],
   "source": [
    "len(tmp3[lambda x: (x['pledge_per_person'] >= 5000)])"
   ]
  },
  {
   "cell_type": "code",
   "execution_count": null,
   "metadata": {},
   "outputs": [],
   "source": [
    "len(tmp3[lambda x: (x['pledge_per_person'] <= 500)])"
   ]
  },
  {
   "cell_type": "code",
   "execution_count": 53,
   "metadata": {},
   "outputs": [],
   "source": [
    "# 5천/ 2500 / 1000 / 500 / 100 / 50\n",
    "def pledge_per_person(cate, term_bin):\n",
    "    cate_df = projects_fin[lambda x: (x['main_category'] == cate) & (x['term_bin'] == term_bin) & (x['backers'] != 0)]\n",
    "    cate_df['pledge_per_person'] = cate_df['usd_goal_real'] / cate_df['backers']\n",
    "    cate_df['pledge_per_person_bin'] = cate_df.apply(lambda x: '1' if x['pledge_per_person'] <= 50\n",
    "                                                       else '2' if x['pledge_per_person'] <= 100\n",
    "                                                       else '3' if x['pledge_per_person'] <= 500\n",
    "                                                       else '4' if x['pledge_per_person'] <= 1000\n",
    "                                                       else '5' if x['pledge_per_person'] <= 2500\n",
    "                                                       else '6' if x['pledge_per_person'] <= 5000\n",
    "                                                       else '7', axis = 1)\n",
    "    \n",
    "    percent_list = []\n",
    "\n",
    "    for i in range(7):\n",
    "        percent = len(cate_df[lambda x: (x['pledge_per_person_bin'] == str(i+1))]) / len(cate_df)\n",
    "        percent_list.append(percent)\n",
    "        \n",
    "    tmp = pd.DataFrame({'bars' : ['50달러이하', '100달러이하', '500달러이하', '1000달러이하', '2500달러이하', '5000달러이하', '5000달러초과'], \n",
    "                    'percent' : percent_list})\n",
    "    \n",
    "    plt.figure(figsize=(10,6))\n",
    "    plt.title(cate + ' 카테고리의 ' + str(term_bin) + ' 기간의 1인당 투자 금액 분포', fontsize = 20)\n",
    "    sns.barplot(x = \"bars\", y = \"percent\", data = tmp, color = '#78BD40')   "
   ]
  },
  {
   "cell_type": "code",
   "execution_count": 62,
   "metadata": {},
   "outputs": [
    {
     "name": "stderr",
     "output_type": "stream",
     "text": [
      "C:\\ProgramData\\Anaconda3\\lib\\site-packages\\ipykernel_launcher.py:4: SettingWithCopyWarning: \n",
      "A value is trying to be set on a copy of a slice from a DataFrame.\n",
      "Try using .loc[row_indexer,col_indexer] = value instead\n",
      "\n",
      "See the caveats in the documentation: http://pandas.pydata.org/pandas-docs/stable/indexing.html#indexing-view-versus-copy\n",
      "  after removing the cwd from sys.path.\n",
      "C:\\ProgramData\\Anaconda3\\lib\\site-packages\\ipykernel_launcher.py:11: SettingWithCopyWarning: \n",
      "A value is trying to be set on a copy of a slice from a DataFrame.\n",
      "Try using .loc[row_indexer,col_indexer] = value instead\n",
      "\n",
      "See the caveats in the documentation: http://pandas.pydata.org/pandas-docs/stable/indexing.html#indexing-view-versus-copy\n",
      "  # This is added back by InteractiveShellApp.init_path()\n"
     ]
    },
    {
     "data": {
      "image/png": "[encoded data removed]",
      "text/plain": [
       "<Figure size 720x432 with 1 Axes>"
      ]
     },
     "metadata": {
      "image/png": {
       "height": 391,
       "width": 612
      },
      "needs_background": "light"
     },
     "output_type": "display_data"
    }
   ],
   "source": [
    "pledge_per_person('Film & Video', 2)"
   ]
  },
  {
   "cell_type": "code",
   "execution_count": null,
   "metadata": {},
   "outputs": [],
   "source": []
  }
 ],
 "metadata": {
  "kernelspec": {
   "display_name": "Python 3",
   "language": "python",
   "name": "python3"
  },
  "language_info": {
   "codemirror_mode": {
    "name": "ipython",
    "version": 3
   },
   "file_extension": ".py",
   "mimetype": "text/x-python",
   "name": "python",
   "nbconvert_exporter": "python",
   "pygments_lexer": "ipython3",
   "version": "3.7.3"
  }
 },
 "nbformat": 4,
 "nbformat_minor": 2
}
